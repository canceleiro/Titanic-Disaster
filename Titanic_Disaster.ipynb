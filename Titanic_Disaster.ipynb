{
 "cells": [
  {
   "cell_type": "markdown",
   "metadata": {},
   "source": [
    "# Titanic Disaster\n",
    "## by Javier Alonso\n",
    "\n",
    "## Preliminary Wrangling\n",
    "\n",
    "\n"
   ]
  },
  {
   "cell_type": "code",
   "execution_count": 1,
   "metadata": {},
   "outputs": [],
   "source": [
    "# import all packages and set plots to be embedded inline\n",
    "import numpy as np\n",
    "import pandas as pd\n",
    "import matplotlib.pyplot as plt\n",
    "import seaborn as sb\n",
    "\n",
    "%matplotlib inline"
   ]
  },
  {
   "cell_type": "markdown",
   "metadata": {},
   "source": [
    "### GATHERING DATA\n",
    "\n",
    ">In this section I will gather data from both files available"
   ]
  },
  {
   "cell_type": "code",
   "execution_count": 2,
   "metadata": {},
   "outputs": [],
   "source": [
    "train = pd.read_csv(\"train.csv\")\n",
    "test = pd.read_csv(\"test.csv\")"
   ]
  },
  {
   "cell_type": "markdown",
   "metadata": {},
   "source": [
    ">I concatenate both dataframes for having the complete view"
   ]
  },
  {
   "cell_type": "code",
   "execution_count": 3,
   "metadata": {},
   "outputs": [],
   "source": [
    "df = pd.concat([train, test], sort=False)"
   ]
  },
  {
   "cell_type": "markdown",
   "metadata": {},
   "source": [
    "> For checking it has been imported correctly I do some visualization of data"
   ]
  },
  {
   "cell_type": "code",
   "execution_count": 4,
   "metadata": {},
   "outputs": [
    {
     "data": {
      "text/plain": [
       "((891, 12), (418, 11), (1309, 12))"
      ]
     },
     "execution_count": 4,
     "metadata": {},
     "output_type": "execute_result"
    }
   ],
   "source": [
    "train.shape, test.shape, df.shape"
   ]
  },
  {
   "cell_type": "markdown",
   "metadata": {},
   "source": [
    "> Train and df has one more column because it has de \"survived\" data, not available in test. In the df dataframe the survived of test data has a NaN\n",
    "\n",
    "> I´m going to analyze the big dataframe"
   ]
  },
  {
   "cell_type": "code",
   "execution_count": 5,
   "metadata": {},
   "outputs": [
    {
     "data": {
      "text/html": [
       "<div>\n",
       "<style scoped>\n",
       "    .dataframe tbody tr th:only-of-type {\n",
       "        vertical-align: middle;\n",
       "    }\n",
       "\n",
       "    .dataframe tbody tr th {\n",
       "        vertical-align: top;\n",
       "    }\n",
       "\n",
       "    .dataframe thead th {\n",
       "        text-align: right;\n",
       "    }\n",
       "</style>\n",
       "<table border=\"1\" class=\"dataframe\">\n",
       "  <thead>\n",
       "    <tr style=\"text-align: right;\">\n",
       "      <th></th>\n",
       "      <th>PassengerId</th>\n",
       "      <th>Survived</th>\n",
       "      <th>Pclass</th>\n",
       "      <th>Name</th>\n",
       "      <th>Sex</th>\n",
       "      <th>Age</th>\n",
       "      <th>SibSp</th>\n",
       "      <th>Parch</th>\n",
       "      <th>Ticket</th>\n",
       "      <th>Fare</th>\n",
       "      <th>Cabin</th>\n",
       "      <th>Embarked</th>\n",
       "    </tr>\n",
       "  </thead>\n",
       "  <tbody>\n",
       "    <tr>\n",
       "      <td>0</td>\n",
       "      <td>1</td>\n",
       "      <td>0.0</td>\n",
       "      <td>3</td>\n",
       "      <td>Braund, Mr. Owen Harris</td>\n",
       "      <td>male</td>\n",
       "      <td>22.0</td>\n",
       "      <td>1</td>\n",
       "      <td>0</td>\n",
       "      <td>A/5 21171</td>\n",
       "      <td>7.2500</td>\n",
       "      <td>NaN</td>\n",
       "      <td>S</td>\n",
       "    </tr>\n",
       "    <tr>\n",
       "      <td>1</td>\n",
       "      <td>2</td>\n",
       "      <td>1.0</td>\n",
       "      <td>1</td>\n",
       "      <td>Cumings, Mrs. John Bradley (Florence Briggs Th...</td>\n",
       "      <td>female</td>\n",
       "      <td>38.0</td>\n",
       "      <td>1</td>\n",
       "      <td>0</td>\n",
       "      <td>PC 17599</td>\n",
       "      <td>71.2833</td>\n",
       "      <td>C85</td>\n",
       "      <td>C</td>\n",
       "    </tr>\n",
       "    <tr>\n",
       "      <td>2</td>\n",
       "      <td>3</td>\n",
       "      <td>1.0</td>\n",
       "      <td>3</td>\n",
       "      <td>Heikkinen, Miss. Laina</td>\n",
       "      <td>female</td>\n",
       "      <td>26.0</td>\n",
       "      <td>0</td>\n",
       "      <td>0</td>\n",
       "      <td>STON/O2. 3101282</td>\n",
       "      <td>7.9250</td>\n",
       "      <td>NaN</td>\n",
       "      <td>S</td>\n",
       "    </tr>\n",
       "    <tr>\n",
       "      <td>3</td>\n",
       "      <td>4</td>\n",
       "      <td>1.0</td>\n",
       "      <td>1</td>\n",
       "      <td>Futrelle, Mrs. Jacques Heath (Lily May Peel)</td>\n",
       "      <td>female</td>\n",
       "      <td>35.0</td>\n",
       "      <td>1</td>\n",
       "      <td>0</td>\n",
       "      <td>113803</td>\n",
       "      <td>53.1000</td>\n",
       "      <td>C123</td>\n",
       "      <td>S</td>\n",
       "    </tr>\n",
       "    <tr>\n",
       "      <td>4</td>\n",
       "      <td>5</td>\n",
       "      <td>0.0</td>\n",
       "      <td>3</td>\n",
       "      <td>Allen, Mr. William Henry</td>\n",
       "      <td>male</td>\n",
       "      <td>35.0</td>\n",
       "      <td>0</td>\n",
       "      <td>0</td>\n",
       "      <td>373450</td>\n",
       "      <td>8.0500</td>\n",
       "      <td>NaN</td>\n",
       "      <td>S</td>\n",
       "    </tr>\n",
       "  </tbody>\n",
       "</table>\n",
       "</div>"
      ],
      "text/plain": [
       "   PassengerId  Survived  Pclass  \\\n",
       "0            1       0.0       3   \n",
       "1            2       1.0       1   \n",
       "2            3       1.0       3   \n",
       "3            4       1.0       1   \n",
       "4            5       0.0       3   \n",
       "\n",
       "                                                Name     Sex   Age  SibSp  \\\n",
       "0                            Braund, Mr. Owen Harris    male  22.0      1   \n",
       "1  Cumings, Mrs. John Bradley (Florence Briggs Th...  female  38.0      1   \n",
       "2                             Heikkinen, Miss. Laina  female  26.0      0   \n",
       "3       Futrelle, Mrs. Jacques Heath (Lily May Peel)  female  35.0      1   \n",
       "4                           Allen, Mr. William Henry    male  35.0      0   \n",
       "\n",
       "   Parch            Ticket     Fare Cabin Embarked  \n",
       "0      0         A/5 21171   7.2500   NaN        S  \n",
       "1      0          PC 17599  71.2833   C85        C  \n",
       "2      0  STON/O2. 3101282   7.9250   NaN        S  \n",
       "3      0            113803  53.1000  C123        S  \n",
       "4      0            373450   8.0500   NaN        S  "
      ]
     },
     "execution_count": 5,
     "metadata": {},
     "output_type": "execute_result"
    }
   ],
   "source": [
    "df.head()"
   ]
  },
  {
   "cell_type": "code",
   "execution_count": 6,
   "metadata": {},
   "outputs": [
    {
     "data": {
      "text/html": [
       "<div>\n",
       "<style scoped>\n",
       "    .dataframe tbody tr th:only-of-type {\n",
       "        vertical-align: middle;\n",
       "    }\n",
       "\n",
       "    .dataframe tbody tr th {\n",
       "        vertical-align: top;\n",
       "    }\n",
       "\n",
       "    .dataframe thead th {\n",
       "        text-align: right;\n",
       "    }\n",
       "</style>\n",
       "<table border=\"1\" class=\"dataframe\">\n",
       "  <thead>\n",
       "    <tr style=\"text-align: right;\">\n",
       "      <th></th>\n",
       "      <th>PassengerId</th>\n",
       "      <th>Survived</th>\n",
       "      <th>Pclass</th>\n",
       "      <th>Name</th>\n",
       "      <th>Sex</th>\n",
       "      <th>Age</th>\n",
       "      <th>SibSp</th>\n",
       "      <th>Parch</th>\n",
       "      <th>Ticket</th>\n",
       "      <th>Fare</th>\n",
       "      <th>Cabin</th>\n",
       "      <th>Embarked</th>\n",
       "    </tr>\n",
       "  </thead>\n",
       "  <tbody>\n",
       "    <tr>\n",
       "      <td>504</td>\n",
       "      <td>505</td>\n",
       "      <td>1.0</td>\n",
       "      <td>1</td>\n",
       "      <td>Maioni, Miss. Roberta</td>\n",
       "      <td>female</td>\n",
       "      <td>16.0</td>\n",
       "      <td>0</td>\n",
       "      <td>0</td>\n",
       "      <td>110152</td>\n",
       "      <td>86.5000</td>\n",
       "      <td>B79</td>\n",
       "      <td>S</td>\n",
       "    </tr>\n",
       "    <tr>\n",
       "      <td>280</td>\n",
       "      <td>1172</td>\n",
       "      <td>NaN</td>\n",
       "      <td>3</td>\n",
       "      <td>Oreskovic, Miss. Jelka</td>\n",
       "      <td>female</td>\n",
       "      <td>23.0</td>\n",
       "      <td>0</td>\n",
       "      <td>0</td>\n",
       "      <td>315085</td>\n",
       "      <td>8.6625</td>\n",
       "      <td>NaN</td>\n",
       "      <td>S</td>\n",
       "    </tr>\n",
       "    <tr>\n",
       "      <td>517</td>\n",
       "      <td>518</td>\n",
       "      <td>0.0</td>\n",
       "      <td>3</td>\n",
       "      <td>Ryan, Mr. Patrick</td>\n",
       "      <td>male</td>\n",
       "      <td>NaN</td>\n",
       "      <td>0</td>\n",
       "      <td>0</td>\n",
       "      <td>371110</td>\n",
       "      <td>24.1500</td>\n",
       "      <td>NaN</td>\n",
       "      <td>Q</td>\n",
       "    </tr>\n",
       "    <tr>\n",
       "      <td>119</td>\n",
       "      <td>120</td>\n",
       "      <td>0.0</td>\n",
       "      <td>3</td>\n",
       "      <td>Andersson, Miss. Ellis Anna Maria</td>\n",
       "      <td>female</td>\n",
       "      <td>2.0</td>\n",
       "      <td>4</td>\n",
       "      <td>2</td>\n",
       "      <td>347082</td>\n",
       "      <td>31.2750</td>\n",
       "      <td>NaN</td>\n",
       "      <td>S</td>\n",
       "    </tr>\n",
       "    <tr>\n",
       "      <td>361</td>\n",
       "      <td>1253</td>\n",
       "      <td>NaN</td>\n",
       "      <td>2</td>\n",
       "      <td>Mallet, Mrs. Albert (Antoinette Magnin)</td>\n",
       "      <td>female</td>\n",
       "      <td>24.0</td>\n",
       "      <td>1</td>\n",
       "      <td>1</td>\n",
       "      <td>S.C./PARIS 2079</td>\n",
       "      <td>37.0042</td>\n",
       "      <td>NaN</td>\n",
       "      <td>C</td>\n",
       "    </tr>\n",
       "  </tbody>\n",
       "</table>\n",
       "</div>"
      ],
      "text/plain": [
       "     PassengerId  Survived  Pclass                                     Name  \\\n",
       "504          505       1.0       1                    Maioni, Miss. Roberta   \n",
       "280         1172       NaN       3                   Oreskovic, Miss. Jelka   \n",
       "517          518       0.0       3                        Ryan, Mr. Patrick   \n",
       "119          120       0.0       3        Andersson, Miss. Ellis Anna Maria   \n",
       "361         1253       NaN       2  Mallet, Mrs. Albert (Antoinette Magnin)   \n",
       "\n",
       "        Sex   Age  SibSp  Parch           Ticket     Fare Cabin Embarked  \n",
       "504  female  16.0      0      0           110152  86.5000   B79        S  \n",
       "280  female  23.0      0      0           315085   8.6625   NaN        S  \n",
       "517    male   NaN      0      0           371110  24.1500   NaN        Q  \n",
       "119  female   2.0      4      2           347082  31.2750   NaN        S  \n",
       "361  female  24.0      1      1  S.C./PARIS 2079  37.0042   NaN        C  "
      ]
     },
     "execution_count": 6,
     "metadata": {},
     "output_type": "execute_result"
    }
   ],
   "source": [
    "df.sample(5)"
   ]
  },
  {
   "cell_type": "code",
   "execution_count": 7,
   "metadata": {},
   "outputs": [
    {
     "name": "stdout",
     "output_type": "stream",
     "text": [
      "<class 'pandas.core.frame.DataFrame'>\n",
      "Int64Index: 1309 entries, 0 to 417\n",
      "Data columns (total 12 columns):\n",
      "PassengerId    1309 non-null int64\n",
      "Survived       891 non-null float64\n",
      "Pclass         1309 non-null int64\n",
      "Name           1309 non-null object\n",
      "Sex            1309 non-null object\n",
      "Age            1046 non-null float64\n",
      "SibSp          1309 non-null int64\n",
      "Parch          1309 non-null int64\n",
      "Ticket         1309 non-null object\n",
      "Fare           1308 non-null float64\n",
      "Cabin          295 non-null object\n",
      "Embarked       1307 non-null object\n",
      "dtypes: float64(3), int64(4), object(5)\n",
      "memory usage: 132.9+ KB\n"
     ]
    }
   ],
   "source": [
    "df.info()"
   ]
  },
  {
   "cell_type": "markdown",
   "metadata": {},
   "source": [
    "## ASESSING AND CLEANING DATA\n",
    "\n",
    "> After gathering gathering and do the concat of the data, I´ve assessed it visually and programmatically for quality and tidiness issues, and clean the issues\n",
    "\n",
    "> First thing I do a copy of my dataframe\n"
   ]
  },
  {
   "cell_type": "code",
   "execution_count": 214,
   "metadata": {},
   "outputs": [],
   "source": [
    "df_clean = df.copy()"
   ]
  },
  {
   "cell_type": "markdown",
   "metadata": {},
   "source": [
    "### Incorrect Datatypes\n",
    "\n",
    "> 1.- incorrect datatype of the field: Survived, but as it has NaN values can´t be changed to integer.\n"
   ]
  },
  {
   "cell_type": "code",
   "execution_count": 215,
   "metadata": {
    "scrolled": true
   },
   "outputs": [
    {
     "name": "stdout",
     "output_type": "stream",
     "text": [
      "<class 'pandas.core.frame.DataFrame'>\n",
      "Int64Index: 1309 entries, 0 to 417\n",
      "Data columns (total 12 columns):\n",
      "PassengerId    1309 non-null int64\n",
      "Survived       891 non-null float64\n",
      "Pclass         1309 non-null int64\n",
      "Name           1309 non-null object\n",
      "Sex            1309 non-null object\n",
      "Age            1046 non-null float64\n",
      "SibSp          1309 non-null int64\n",
      "Parch          1309 non-null int64\n",
      "Ticket         1309 non-null object\n",
      "Fare           1308 non-null float64\n",
      "Cabin          295 non-null object\n",
      "Embarked       1307 non-null object\n",
      "dtypes: float64(3), int64(4), object(5)\n",
      "memory usage: 132.9+ KB\n"
     ]
    }
   ],
   "source": [
    "df_clean.info()"
   ]
  },
  {
   "cell_type": "markdown",
   "metadata": {},
   "source": [
    "> 2.- incorrect datatype of the column Pclass: it should be a string. We change the datatype"
   ]
  },
  {
   "cell_type": "code",
   "execution_count": 216,
   "metadata": {},
   "outputs": [],
   "source": [
    "df_clean.Pclass = df_clean.Pclass.astype(str)"
   ]
  },
  {
   "cell_type": "code",
   "execution_count": 217,
   "metadata": {
    "scrolled": true
   },
   "outputs": [
    {
     "name": "stdout",
     "output_type": "stream",
     "text": [
      "<class 'pandas.core.frame.DataFrame'>\n",
      "Int64Index: 1309 entries, 0 to 417\n",
      "Data columns (total 12 columns):\n",
      "PassengerId    1309 non-null int64\n",
      "Survived       891 non-null float64\n",
      "Pclass         1309 non-null object\n",
      "Name           1309 non-null object\n",
      "Sex            1309 non-null object\n",
      "Age            1046 non-null float64\n",
      "SibSp          1309 non-null int64\n",
      "Parch          1309 non-null int64\n",
      "Ticket         1309 non-null object\n",
      "Fare           1308 non-null float64\n",
      "Cabin          295 non-null object\n",
      "Embarked       1307 non-null object\n",
      "dtypes: float64(3), int64(3), object(6)\n",
      "memory usage: 132.9+ KB\n"
     ]
    }
   ],
   "source": [
    "df_clean.info()"
   ]
  },
  {
   "cell_type": "markdown",
   "metadata": {},
   "source": [
    "### Null Values\n",
    "\n",
    "> NaN values in Survived, Age (20%), Fare (1 value), Cabin(77% of values) and Embarked (2 values) column. \n",
    "\n",
    "> The Survived column doesn´t count as it´s the result variable. We have to see how to fix the other variables"
   ]
  },
  {
   "cell_type": "code",
   "execution_count": 218,
   "metadata": {},
   "outputs": [
    {
     "data": {
      "text/plain": [
       "PassengerId       0\n",
       "Survived        418\n",
       "Pclass            0\n",
       "Name              0\n",
       "Sex               0\n",
       "Age             263\n",
       "SibSp             0\n",
       "Parch             0\n",
       "Ticket            0\n",
       "Fare              1\n",
       "Cabin          1014\n",
       "Embarked          2\n",
       "dtype: int64"
      ]
     },
     "execution_count": 218,
     "metadata": {},
     "output_type": "execute_result"
    }
   ],
   "source": [
    "df_clean.isnull().sum()"
   ]
  },
  {
   "cell_type": "code",
   "execution_count": 219,
   "metadata": {},
   "outputs": [
    {
     "data": {
      "text/plain": [
       "PassengerId    0.000000\n",
       "Survived       0.319328\n",
       "Pclass         0.000000\n",
       "Name           0.000000\n",
       "Sex            0.000000\n",
       "Age            0.200917\n",
       "SibSp          0.000000\n",
       "Parch          0.000000\n",
       "Ticket         0.000000\n",
       "Fare           0.000764\n",
       "Cabin          0.774637\n",
       "Embarked       0.001528\n",
       "dtype: float64"
      ]
     },
     "execution_count": 219,
     "metadata": {},
     "output_type": "execute_result"
    }
   ],
   "source": [
    "df_clean.isnull().sum()/df_clean.shape[0]"
   ]
  },
  {
   "cell_type": "markdown",
   "metadata": {},
   "source": [
    "> **1- NaN values in Age column**"
   ]
  },
  {
   "cell_type": "code",
   "execution_count": 220,
   "metadata": {},
   "outputs": [
    {
     "data": {
      "text/html": [
       "<div>\n",
       "<style scoped>\n",
       "    .dataframe tbody tr th:only-of-type {\n",
       "        vertical-align: middle;\n",
       "    }\n",
       "\n",
       "    .dataframe tbody tr th {\n",
       "        vertical-align: top;\n",
       "    }\n",
       "\n",
       "    .dataframe thead th {\n",
       "        text-align: right;\n",
       "    }\n",
       "</style>\n",
       "<table border=\"1\" class=\"dataframe\">\n",
       "  <thead>\n",
       "    <tr style=\"text-align: right;\">\n",
       "      <th></th>\n",
       "      <th>PassengerId</th>\n",
       "      <th>Survived</th>\n",
       "      <th>Pclass</th>\n",
       "      <th>Name</th>\n",
       "      <th>Sex</th>\n",
       "      <th>Age</th>\n",
       "      <th>SibSp</th>\n",
       "      <th>Parch</th>\n",
       "      <th>Ticket</th>\n",
       "      <th>Fare</th>\n",
       "      <th>Cabin</th>\n",
       "      <th>Embarked</th>\n",
       "    </tr>\n",
       "  </thead>\n",
       "  <tbody>\n",
       "    <tr>\n",
       "      <td>0</td>\n",
       "      <td>1</td>\n",
       "      <td>0.0</td>\n",
       "      <td>3</td>\n",
       "      <td>Braund, Mr. Owen Harris</td>\n",
       "      <td>male</td>\n",
       "      <td>22.0</td>\n",
       "      <td>1</td>\n",
       "      <td>0</td>\n",
       "      <td>A/5 21171</td>\n",
       "      <td>7.2500</td>\n",
       "      <td>NaN</td>\n",
       "      <td>S</td>\n",
       "    </tr>\n",
       "    <tr>\n",
       "      <td>1</td>\n",
       "      <td>2</td>\n",
       "      <td>1.0</td>\n",
       "      <td>1</td>\n",
       "      <td>Cumings, Mrs. John Bradley (Florence Briggs Th...</td>\n",
       "      <td>female</td>\n",
       "      <td>38.0</td>\n",
       "      <td>1</td>\n",
       "      <td>0</td>\n",
       "      <td>PC 17599</td>\n",
       "      <td>71.2833</td>\n",
       "      <td>C85</td>\n",
       "      <td>C</td>\n",
       "    </tr>\n",
       "    <tr>\n",
       "      <td>2</td>\n",
       "      <td>3</td>\n",
       "      <td>1.0</td>\n",
       "      <td>3</td>\n",
       "      <td>Heikkinen, Miss. Laina</td>\n",
       "      <td>female</td>\n",
       "      <td>26.0</td>\n",
       "      <td>0</td>\n",
       "      <td>0</td>\n",
       "      <td>STON/O2. 3101282</td>\n",
       "      <td>7.9250</td>\n",
       "      <td>NaN</td>\n",
       "      <td>S</td>\n",
       "    </tr>\n",
       "    <tr>\n",
       "      <td>3</td>\n",
       "      <td>4</td>\n",
       "      <td>1.0</td>\n",
       "      <td>1</td>\n",
       "      <td>Futrelle, Mrs. Jacques Heath (Lily May Peel)</td>\n",
       "      <td>female</td>\n",
       "      <td>35.0</td>\n",
       "      <td>1</td>\n",
       "      <td>0</td>\n",
       "      <td>113803</td>\n",
       "      <td>53.1000</td>\n",
       "      <td>C123</td>\n",
       "      <td>S</td>\n",
       "    </tr>\n",
       "    <tr>\n",
       "      <td>4</td>\n",
       "      <td>5</td>\n",
       "      <td>0.0</td>\n",
       "      <td>3</td>\n",
       "      <td>Allen, Mr. William Henry</td>\n",
       "      <td>male</td>\n",
       "      <td>35.0</td>\n",
       "      <td>0</td>\n",
       "      <td>0</td>\n",
       "      <td>373450</td>\n",
       "      <td>8.0500</td>\n",
       "      <td>NaN</td>\n",
       "      <td>S</td>\n",
       "    </tr>\n",
       "  </tbody>\n",
       "</table>\n",
       "</div>"
      ],
      "text/plain": [
       "   PassengerId  Survived Pclass  \\\n",
       "0            1       0.0      3   \n",
       "1            2       1.0      1   \n",
       "2            3       1.0      3   \n",
       "3            4       1.0      1   \n",
       "4            5       0.0      3   \n",
       "\n",
       "                                                Name     Sex   Age  SibSp  \\\n",
       "0                            Braund, Mr. Owen Harris    male  22.0      1   \n",
       "1  Cumings, Mrs. John Bradley (Florence Briggs Th...  female  38.0      1   \n",
       "2                             Heikkinen, Miss. Laina  female  26.0      0   \n",
       "3       Futrelle, Mrs. Jacques Heath (Lily May Peel)  female  35.0      1   \n",
       "4                           Allen, Mr. William Henry    male  35.0      0   \n",
       "\n",
       "   Parch            Ticket     Fare Cabin Embarked  \n",
       "0      0         A/5 21171   7.2500   NaN        S  \n",
       "1      0          PC 17599  71.2833   C85        C  \n",
       "2      0  STON/O2. 3101282   7.9250   NaN        S  \n",
       "3      0            113803  53.1000  C123        S  \n",
       "4      0            373450   8.0500   NaN        S  "
      ]
     },
     "execution_count": 220,
     "metadata": {},
     "output_type": "execute_result"
    }
   ],
   "source": [
    "df_clean.head()"
   ]
  },
  {
   "cell_type": "markdown",
   "metadata": {},
   "source": [
    "> Solution: there are many options for replacing the null values. Next a few:\n",
    "\n",
    "> - Replace with the total mean or median of the age\n",
    "> - Replace with the mean or median of the age of the sex of the passenger\n",
    "> - Replace with the mean or median of the age of the Pclass of the passenger\n",
    "\n",
    "> But I think there´s a better option. From the name we can extract the title (Mr, Mrs, Miss,...) and get the mean or the median of the age of the group, so the new age will be more precise\n",
    "\n",
    "> First I extract the title\n"
   ]
  },
  {
   "cell_type": "code",
   "execution_count": 221,
   "metadata": {},
   "outputs": [],
   "source": [
    "#I extract the title\n",
    "df_clean['Title'] = df_clean.Name.str.split(\",\", expand = True)[1].str.split(\".\", expand = True)[0].str.strip()\n",
    "\n",
    "#I fix the titles asigned incorrectly, leaving only Mr, Miss, Mrs, Master\n",
    "df_clean.loc[(df_clean.Title == \"Dr\") & (df_clean.Sex == \"male\"),\"Title\"] = \"Mr\"\n",
    "df_clean.loc[(df_clean.Title == \"Dr\") & (df_clean.Sex == \"female\"),\"Title\"] = \"Mrs\"\n",
    "df_clean.loc[(df_clean.Title.isin([\"Rev\",\"Col\",\"Major\",\"Jonkheer\",\"Capt\",\"Sir\",\"Don\"]) ),\"Title\"] = \"Mr\"\n",
    "df_clean.loc[(df_clean.Title.isin([\"Mlle\",\"Mme\",\"Dona\",\"Lady\",\"the Countess\",\"Ms\"]) ),\"Title\"] = \"Mrs\""
   ]
  },
  {
   "cell_type": "code",
   "execution_count": 222,
   "metadata": {},
   "outputs": [
    {
     "data": {
      "text/plain": [
       "Mr        782\n",
       "Miss      260\n",
       "Mrs       206\n",
       "Master     61\n",
       "Name: Title, dtype: int64"
      ]
     },
     "execution_count": 222,
     "metadata": {},
     "output_type": "execute_result"
    }
   ],
   "source": [
    "df_clean.Title.value_counts(dropna = False)"
   ]
  },
  {
   "cell_type": "markdown",
   "metadata": {},
   "source": [
    "> I get the mean and median for each of the titles"
   ]
  },
  {
   "cell_type": "code",
   "execution_count": 223,
   "metadata": {},
   "outputs": [],
   "source": [
    "#create a df with the mean and median per title\n",
    "Title_age = df_clean.groupby('Title').agg({\"mean\",\"median\" })['Age'].reset_index()\n",
    "\n",
    "#function for asigning the mean per title to the ages of -1\n",
    "def mean_age(age, title):\n",
    "    if age == -1:\n",
    "        age_mean = round(Title_age[Title_age.Title == title]['mean'].iloc[0],2)\n",
    "    else:\n",
    "        age_mean = age\n",
    "    return age_mean\n",
    "\n",
    "#I asing -1 to the NaN\n",
    "df_clean['Age'].fillna(-1, inplace=True)\n",
    "#I replace the -1 with the mean of the title\n",
    "df_clean['Age'] = df_clean.apply(lambda x: mean_age(x['Age'],x['Title']),axis=1)"
   ]
  },
  {
   "cell_type": "code",
   "execution_count": 224,
   "metadata": {},
   "outputs": [
    {
     "data": {
      "text/plain": [
       "PassengerId       0\n",
       "Survived        418\n",
       "Pclass            0\n",
       "Name              0\n",
       "Sex               0\n",
       "Age               0\n",
       "SibSp             0\n",
       "Parch             0\n",
       "Ticket            0\n",
       "Fare              1\n",
       "Cabin          1014\n",
       "Embarked          2\n",
       "Title             0\n",
       "dtype: int64"
      ]
     },
     "execution_count": 224,
     "metadata": {},
     "output_type": "execute_result"
    }
   ],
   "source": [
    "df_clean.isnull().sum()"
   ]
  },
  {
   "cell_type": "markdown",
   "metadata": {},
   "source": [
    "> **2 NaN in Fare column**. There´s only one value with NaN. The Fare is related to the Pclass, so I´m going to replace the NaN with the mean of its Pclass (3)"
   ]
  },
  {
   "cell_type": "code",
   "execution_count": 225,
   "metadata": {},
   "outputs": [],
   "source": [
    "class_fare = df_clean.groupby('Pclass').agg({\"mean\"})['Fare'].reset_index()\n",
    "class_3_fare = round(class_fare[class_fare['Pclass'] == '3']['mean'].iloc[0],4)\n",
    "df_clean.Fare.loc[df_clean.PassengerId == 1044] = class_3_fare"
   ]
  },
  {
   "cell_type": "code",
   "execution_count": 226,
   "metadata": {},
   "outputs": [
    {
     "data": {
      "text/plain": [
       "PassengerId       0\n",
       "Survived        418\n",
       "Pclass            0\n",
       "Name              0\n",
       "Sex               0\n",
       "Age               0\n",
       "SibSp             0\n",
       "Parch             0\n",
       "Ticket            0\n",
       "Fare              0\n",
       "Cabin          1014\n",
       "Embarked          2\n",
       "Title             0\n",
       "dtype: int64"
      ]
     },
     "execution_count": 226,
     "metadata": {},
     "output_type": "execute_result"
    }
   ],
   "source": [
    "df_clean.isnull().sum()"
   ]
  },
  {
   "cell_type": "markdown",
   "metadata": {},
   "source": [
    "> **3 NaN in Cabin column**. It has with NaN´s 77% of the values of the column, so it´s impossible to get good values for it. I´m going to delete this column as it doesn´t give us quality information"
   ]
  },
  {
   "cell_type": "code",
   "execution_count": 227,
   "metadata": {},
   "outputs": [
    {
     "data": {
      "text/plain": [
       "PassengerId    0.000000\n",
       "Survived       0.319328\n",
       "Pclass         0.000000\n",
       "Name           0.000000\n",
       "Sex            0.000000\n",
       "Age            0.000000\n",
       "SibSp          0.000000\n",
       "Parch          0.000000\n",
       "Ticket         0.000000\n",
       "Fare           0.000000\n",
       "Cabin          0.774637\n",
       "Embarked       0.001528\n",
       "Title          0.000000\n",
       "dtype: float64"
      ]
     },
     "execution_count": 227,
     "metadata": {},
     "output_type": "execute_result"
    }
   ],
   "source": [
    "df_clean.isnull().sum()/df_clean.shape[0]"
   ]
  },
  {
   "cell_type": "code",
   "execution_count": 228,
   "metadata": {},
   "outputs": [],
   "source": [
    "df_clean = df_clean.drop('Cabin', axis=1)"
   ]
  },
  {
   "cell_type": "code",
   "execution_count": 229,
   "metadata": {},
   "outputs": [
    {
     "data": {
      "text/html": [
       "<div>\n",
       "<style scoped>\n",
       "    .dataframe tbody tr th:only-of-type {\n",
       "        vertical-align: middle;\n",
       "    }\n",
       "\n",
       "    .dataframe tbody tr th {\n",
       "        vertical-align: top;\n",
       "    }\n",
       "\n",
       "    .dataframe thead th {\n",
       "        text-align: right;\n",
       "    }\n",
       "</style>\n",
       "<table border=\"1\" class=\"dataframe\">\n",
       "  <thead>\n",
       "    <tr style=\"text-align: right;\">\n",
       "      <th></th>\n",
       "      <th>PassengerId</th>\n",
       "      <th>Survived</th>\n",
       "      <th>Pclass</th>\n",
       "      <th>Name</th>\n",
       "      <th>Sex</th>\n",
       "      <th>Age</th>\n",
       "      <th>SibSp</th>\n",
       "      <th>Parch</th>\n",
       "      <th>Ticket</th>\n",
       "      <th>Fare</th>\n",
       "      <th>Embarked</th>\n",
       "      <th>Title</th>\n",
       "    </tr>\n",
       "  </thead>\n",
       "  <tbody>\n",
       "    <tr>\n",
       "      <td>0</td>\n",
       "      <td>1</td>\n",
       "      <td>0.0</td>\n",
       "      <td>3</td>\n",
       "      <td>Braund, Mr. Owen Harris</td>\n",
       "      <td>male</td>\n",
       "      <td>22.0</td>\n",
       "      <td>1</td>\n",
       "      <td>0</td>\n",
       "      <td>A/5 21171</td>\n",
       "      <td>7.2500</td>\n",
       "      <td>S</td>\n",
       "      <td>Mr</td>\n",
       "    </tr>\n",
       "    <tr>\n",
       "      <td>1</td>\n",
       "      <td>2</td>\n",
       "      <td>1.0</td>\n",
       "      <td>1</td>\n",
       "      <td>Cumings, Mrs. John Bradley (Florence Briggs Th...</td>\n",
       "      <td>female</td>\n",
       "      <td>38.0</td>\n",
       "      <td>1</td>\n",
       "      <td>0</td>\n",
       "      <td>PC 17599</td>\n",
       "      <td>71.2833</td>\n",
       "      <td>C</td>\n",
       "      <td>Mrs</td>\n",
       "    </tr>\n",
       "    <tr>\n",
       "      <td>2</td>\n",
       "      <td>3</td>\n",
       "      <td>1.0</td>\n",
       "      <td>3</td>\n",
       "      <td>Heikkinen, Miss. Laina</td>\n",
       "      <td>female</td>\n",
       "      <td>26.0</td>\n",
       "      <td>0</td>\n",
       "      <td>0</td>\n",
       "      <td>STON/O2. 3101282</td>\n",
       "      <td>7.9250</td>\n",
       "      <td>S</td>\n",
       "      <td>Miss</td>\n",
       "    </tr>\n",
       "    <tr>\n",
       "      <td>3</td>\n",
       "      <td>4</td>\n",
       "      <td>1.0</td>\n",
       "      <td>1</td>\n",
       "      <td>Futrelle, Mrs. Jacques Heath (Lily May Peel)</td>\n",
       "      <td>female</td>\n",
       "      <td>35.0</td>\n",
       "      <td>1</td>\n",
       "      <td>0</td>\n",
       "      <td>113803</td>\n",
       "      <td>53.1000</td>\n",
       "      <td>S</td>\n",
       "      <td>Mrs</td>\n",
       "    </tr>\n",
       "    <tr>\n",
       "      <td>4</td>\n",
       "      <td>5</td>\n",
       "      <td>0.0</td>\n",
       "      <td>3</td>\n",
       "      <td>Allen, Mr. William Henry</td>\n",
       "      <td>male</td>\n",
       "      <td>35.0</td>\n",
       "      <td>0</td>\n",
       "      <td>0</td>\n",
       "      <td>373450</td>\n",
       "      <td>8.0500</td>\n",
       "      <td>S</td>\n",
       "      <td>Mr</td>\n",
       "    </tr>\n",
       "  </tbody>\n",
       "</table>\n",
       "</div>"
      ],
      "text/plain": [
       "   PassengerId  Survived Pclass  \\\n",
       "0            1       0.0      3   \n",
       "1            2       1.0      1   \n",
       "2            3       1.0      3   \n",
       "3            4       1.0      1   \n",
       "4            5       0.0      3   \n",
       "\n",
       "                                                Name     Sex   Age  SibSp  \\\n",
       "0                            Braund, Mr. Owen Harris    male  22.0      1   \n",
       "1  Cumings, Mrs. John Bradley (Florence Briggs Th...  female  38.0      1   \n",
       "2                             Heikkinen, Miss. Laina  female  26.0      0   \n",
       "3       Futrelle, Mrs. Jacques Heath (Lily May Peel)  female  35.0      1   \n",
       "4                           Allen, Mr. William Henry    male  35.0      0   \n",
       "\n",
       "   Parch            Ticket     Fare Embarked Title  \n",
       "0      0         A/5 21171   7.2500        S    Mr  \n",
       "1      0          PC 17599  71.2833        C   Mrs  \n",
       "2      0  STON/O2. 3101282   7.9250        S  Miss  \n",
       "3      0            113803  53.1000        S   Mrs  \n",
       "4      0            373450   8.0500        S    Mr  "
      ]
     },
     "execution_count": 229,
     "metadata": {},
     "output_type": "execute_result"
    }
   ],
   "source": [
    "df_clean.head()"
   ]
  },
  {
   "cell_type": "markdown",
   "metadata": {},
   "source": [
    "> **4 NaN in Embarked column**. There are only two people with this column in blank. Being a text column I´m going to replace the values with the mode"
   ]
  },
  {
   "cell_type": "code",
   "execution_count": 230,
   "metadata": {},
   "outputs": [
    {
     "data": {
      "text/html": [
       "<div>\n",
       "<style scoped>\n",
       "    .dataframe tbody tr th:only-of-type {\n",
       "        vertical-align: middle;\n",
       "    }\n",
       "\n",
       "    .dataframe tbody tr th {\n",
       "        vertical-align: top;\n",
       "    }\n",
       "\n",
       "    .dataframe thead th {\n",
       "        text-align: right;\n",
       "    }\n",
       "</style>\n",
       "<table border=\"1\" class=\"dataframe\">\n",
       "  <thead>\n",
       "    <tr style=\"text-align: right;\">\n",
       "      <th></th>\n",
       "      <th>PassengerId</th>\n",
       "      <th>Survived</th>\n",
       "      <th>Pclass</th>\n",
       "      <th>Name</th>\n",
       "      <th>Sex</th>\n",
       "      <th>Age</th>\n",
       "      <th>SibSp</th>\n",
       "      <th>Parch</th>\n",
       "      <th>Ticket</th>\n",
       "      <th>Fare</th>\n",
       "      <th>Embarked</th>\n",
       "      <th>Title</th>\n",
       "    </tr>\n",
       "  </thead>\n",
       "  <tbody>\n",
       "    <tr>\n",
       "      <td>61</td>\n",
       "      <td>62</td>\n",
       "      <td>1.0</td>\n",
       "      <td>1</td>\n",
       "      <td>Icard, Miss. Amelie</td>\n",
       "      <td>female</td>\n",
       "      <td>38.0</td>\n",
       "      <td>0</td>\n",
       "      <td>0</td>\n",
       "      <td>113572</td>\n",
       "      <td>80.0</td>\n",
       "      <td>NaN</td>\n",
       "      <td>Miss</td>\n",
       "    </tr>\n",
       "    <tr>\n",
       "      <td>829</td>\n",
       "      <td>830</td>\n",
       "      <td>1.0</td>\n",
       "      <td>1</td>\n",
       "      <td>Stone, Mrs. George Nelson (Martha Evelyn)</td>\n",
       "      <td>female</td>\n",
       "      <td>62.0</td>\n",
       "      <td>0</td>\n",
       "      <td>0</td>\n",
       "      <td>113572</td>\n",
       "      <td>80.0</td>\n",
       "      <td>NaN</td>\n",
       "      <td>Mrs</td>\n",
       "    </tr>\n",
       "  </tbody>\n",
       "</table>\n",
       "</div>"
      ],
      "text/plain": [
       "     PassengerId  Survived Pclass                                       Name  \\\n",
       "61            62       1.0      1                        Icard, Miss. Amelie   \n",
       "829          830       1.0      1  Stone, Mrs. George Nelson (Martha Evelyn)   \n",
       "\n",
       "        Sex   Age  SibSp  Parch  Ticket  Fare Embarked Title  \n",
       "61   female  38.0      0      0  113572  80.0      NaN  Miss  \n",
       "829  female  62.0      0      0  113572  80.0      NaN   Mrs  "
      ]
     },
     "execution_count": 230,
     "metadata": {},
     "output_type": "execute_result"
    }
   ],
   "source": [
    "df_clean[df_clean.Embarked.isnull()]"
   ]
  },
  {
   "cell_type": "code",
   "execution_count": 231,
   "metadata": {},
   "outputs": [
    {
     "data": {
      "text/plain": [
       "S      914\n",
       "C      270\n",
       "Q      123\n",
       "NaN      2\n",
       "Name: Embarked, dtype: int64"
      ]
     },
     "execution_count": 231,
     "metadata": {},
     "output_type": "execute_result"
    }
   ],
   "source": [
    "df_clean.Embarked.value_counts(dropna = False)"
   ]
  },
  {
   "cell_type": "code",
   "execution_count": 232,
   "metadata": {},
   "outputs": [],
   "source": [
    "df_clean.Embarked.loc[df_clean.PassengerId.isin(['62','830'])] = df_clean.Embarked.mode().iloc[0]"
   ]
  },
  {
   "cell_type": "code",
   "execution_count": 233,
   "metadata": {},
   "outputs": [
    {
     "data": {
      "text/plain": [
       "S    916\n",
       "C    270\n",
       "Q    123\n",
       "Name: Embarked, dtype: int64"
      ]
     },
     "execution_count": 233,
     "metadata": {},
     "output_type": "execute_result"
    }
   ],
   "source": [
    "df_clean.Embarked.value_counts(dropna = False)"
   ]
  },
  {
   "cell_type": "markdown",
   "metadata": {},
   "source": [
    "> Now we can see there are only NaNs in the variable to predict"
   ]
  },
  {
   "cell_type": "code",
   "execution_count": 234,
   "metadata": {},
   "outputs": [
    {
     "data": {
      "text/plain": [
       "PassengerId    0.000000\n",
       "Survived       0.319328\n",
       "Pclass         0.000000\n",
       "Name           0.000000\n",
       "Sex            0.000000\n",
       "Age            0.000000\n",
       "SibSp          0.000000\n",
       "Parch          0.000000\n",
       "Ticket         0.000000\n",
       "Fare           0.000000\n",
       "Embarked       0.000000\n",
       "Title          0.000000\n",
       "dtype: float64"
      ]
     },
     "execution_count": 234,
     "metadata": {},
     "output_type": "execute_result"
    }
   ],
   "source": [
    "df_clean.isnull().sum()/df_clean.shape[0]"
   ]
  },
  {
   "cell_type": "markdown",
   "metadata": {},
   "source": [
    "### Redundant columns\n",
    "\n",
    "> There are columns that are not useful for our analysis.\n",
    "\n",
    "> The Ticket is unique for each passenger, and the valid identifier will be the Passengerid\n",
    "\n",
    "> The Name is unique for each passenger, and the valid identifier will be the Passengerid\n",
    "\n",
    "> These two columns are redundant, but we´ll keep the information about each client in a separate dataframe.\n"
   ]
  },
  {
   "cell_type": "code",
   "execution_count": 235,
   "metadata": {},
   "outputs": [
    {
     "data": {
      "text/html": [
       "<div>\n",
       "<style scoped>\n",
       "    .dataframe tbody tr th:only-of-type {\n",
       "        vertical-align: middle;\n",
       "    }\n",
       "\n",
       "    .dataframe tbody tr th {\n",
       "        vertical-align: top;\n",
       "    }\n",
       "\n",
       "    .dataframe thead th {\n",
       "        text-align: right;\n",
       "    }\n",
       "</style>\n",
       "<table border=\"1\" class=\"dataframe\">\n",
       "  <thead>\n",
       "    <tr style=\"text-align: right;\">\n",
       "      <th></th>\n",
       "      <th>PassengerId</th>\n",
       "      <th>Survived</th>\n",
       "      <th>Pclass</th>\n",
       "      <th>Name</th>\n",
       "      <th>Sex</th>\n",
       "      <th>Age</th>\n",
       "      <th>SibSp</th>\n",
       "      <th>Parch</th>\n",
       "      <th>Ticket</th>\n",
       "      <th>Fare</th>\n",
       "      <th>Embarked</th>\n",
       "      <th>Title</th>\n",
       "    </tr>\n",
       "  </thead>\n",
       "  <tbody>\n",
       "    <tr>\n",
       "      <td>0</td>\n",
       "      <td>1</td>\n",
       "      <td>0.0</td>\n",
       "      <td>3</td>\n",
       "      <td>Braund, Mr. Owen Harris</td>\n",
       "      <td>male</td>\n",
       "      <td>22.0</td>\n",
       "      <td>1</td>\n",
       "      <td>0</td>\n",
       "      <td>A/5 21171</td>\n",
       "      <td>7.2500</td>\n",
       "      <td>S</td>\n",
       "      <td>Mr</td>\n",
       "    </tr>\n",
       "    <tr>\n",
       "      <td>1</td>\n",
       "      <td>2</td>\n",
       "      <td>1.0</td>\n",
       "      <td>1</td>\n",
       "      <td>Cumings, Mrs. John Bradley (Florence Briggs Th...</td>\n",
       "      <td>female</td>\n",
       "      <td>38.0</td>\n",
       "      <td>1</td>\n",
       "      <td>0</td>\n",
       "      <td>PC 17599</td>\n",
       "      <td>71.2833</td>\n",
       "      <td>C</td>\n",
       "      <td>Mrs</td>\n",
       "    </tr>\n",
       "    <tr>\n",
       "      <td>2</td>\n",
       "      <td>3</td>\n",
       "      <td>1.0</td>\n",
       "      <td>3</td>\n",
       "      <td>Heikkinen, Miss. Laina</td>\n",
       "      <td>female</td>\n",
       "      <td>26.0</td>\n",
       "      <td>0</td>\n",
       "      <td>0</td>\n",
       "      <td>STON/O2. 3101282</td>\n",
       "      <td>7.9250</td>\n",
       "      <td>S</td>\n",
       "      <td>Miss</td>\n",
       "    </tr>\n",
       "    <tr>\n",
       "      <td>3</td>\n",
       "      <td>4</td>\n",
       "      <td>1.0</td>\n",
       "      <td>1</td>\n",
       "      <td>Futrelle, Mrs. Jacques Heath (Lily May Peel)</td>\n",
       "      <td>female</td>\n",
       "      <td>35.0</td>\n",
       "      <td>1</td>\n",
       "      <td>0</td>\n",
       "      <td>113803</td>\n",
       "      <td>53.1000</td>\n",
       "      <td>S</td>\n",
       "      <td>Mrs</td>\n",
       "    </tr>\n",
       "    <tr>\n",
       "      <td>4</td>\n",
       "      <td>5</td>\n",
       "      <td>0.0</td>\n",
       "      <td>3</td>\n",
       "      <td>Allen, Mr. William Henry</td>\n",
       "      <td>male</td>\n",
       "      <td>35.0</td>\n",
       "      <td>0</td>\n",
       "      <td>0</td>\n",
       "      <td>373450</td>\n",
       "      <td>8.0500</td>\n",
       "      <td>S</td>\n",
       "      <td>Mr</td>\n",
       "    </tr>\n",
       "  </tbody>\n",
       "</table>\n",
       "</div>"
      ],
      "text/plain": [
       "   PassengerId  Survived Pclass  \\\n",
       "0            1       0.0      3   \n",
       "1            2       1.0      1   \n",
       "2            3       1.0      3   \n",
       "3            4       1.0      1   \n",
       "4            5       0.0      3   \n",
       "\n",
       "                                                Name     Sex   Age  SibSp  \\\n",
       "0                            Braund, Mr. Owen Harris    male  22.0      1   \n",
       "1  Cumings, Mrs. John Bradley (Florence Briggs Th...  female  38.0      1   \n",
       "2                             Heikkinen, Miss. Laina  female  26.0      0   \n",
       "3       Futrelle, Mrs. Jacques Heath (Lily May Peel)  female  35.0      1   \n",
       "4                           Allen, Mr. William Henry    male  35.0      0   \n",
       "\n",
       "   Parch            Ticket     Fare Embarked Title  \n",
       "0      0         A/5 21171   7.2500        S    Mr  \n",
       "1      0          PC 17599  71.2833        C   Mrs  \n",
       "2      0  STON/O2. 3101282   7.9250        S  Miss  \n",
       "3      0            113803  53.1000        S   Mrs  \n",
       "4      0            373450   8.0500        S    Mr  "
      ]
     },
     "execution_count": 235,
     "metadata": {},
     "output_type": "execute_result"
    }
   ],
   "source": [
    "df_clean.head()"
   ]
  },
  {
   "cell_type": "code",
   "execution_count": 236,
   "metadata": {},
   "outputs": [],
   "source": [
    "passengers = df_clean.copy()\n",
    "passengers = passengers.drop(['Survived','Pclass','Sex', 'Age','SibSp','Parch','Fare','Embarked','Title'], axis=1)\n",
    "df_clean = df_clean.drop(['Name','Ticket'], axis=1)"
   ]
  },
  {
   "cell_type": "code",
   "execution_count": 237,
   "metadata": {},
   "outputs": [
    {
     "data": {
      "text/html": [
       "<div>\n",
       "<style scoped>\n",
       "    .dataframe tbody tr th:only-of-type {\n",
       "        vertical-align: middle;\n",
       "    }\n",
       "\n",
       "    .dataframe tbody tr th {\n",
       "        vertical-align: top;\n",
       "    }\n",
       "\n",
       "    .dataframe thead th {\n",
       "        text-align: right;\n",
       "    }\n",
       "</style>\n",
       "<table border=\"1\" class=\"dataframe\">\n",
       "  <thead>\n",
       "    <tr style=\"text-align: right;\">\n",
       "      <th></th>\n",
       "      <th>PassengerId</th>\n",
       "      <th>Survived</th>\n",
       "      <th>Pclass</th>\n",
       "      <th>Sex</th>\n",
       "      <th>Age</th>\n",
       "      <th>SibSp</th>\n",
       "      <th>Parch</th>\n",
       "      <th>Fare</th>\n",
       "      <th>Embarked</th>\n",
       "      <th>Title</th>\n",
       "    </tr>\n",
       "  </thead>\n",
       "  <tbody>\n",
       "    <tr>\n",
       "      <td>0</td>\n",
       "      <td>1</td>\n",
       "      <td>0.0</td>\n",
       "      <td>3</td>\n",
       "      <td>male</td>\n",
       "      <td>22.0</td>\n",
       "      <td>1</td>\n",
       "      <td>0</td>\n",
       "      <td>7.2500</td>\n",
       "      <td>S</td>\n",
       "      <td>Mr</td>\n",
       "    </tr>\n",
       "    <tr>\n",
       "      <td>1</td>\n",
       "      <td>2</td>\n",
       "      <td>1.0</td>\n",
       "      <td>1</td>\n",
       "      <td>female</td>\n",
       "      <td>38.0</td>\n",
       "      <td>1</td>\n",
       "      <td>0</td>\n",
       "      <td>71.2833</td>\n",
       "      <td>C</td>\n",
       "      <td>Mrs</td>\n",
       "    </tr>\n",
       "    <tr>\n",
       "      <td>2</td>\n",
       "      <td>3</td>\n",
       "      <td>1.0</td>\n",
       "      <td>3</td>\n",
       "      <td>female</td>\n",
       "      <td>26.0</td>\n",
       "      <td>0</td>\n",
       "      <td>0</td>\n",
       "      <td>7.9250</td>\n",
       "      <td>S</td>\n",
       "      <td>Miss</td>\n",
       "    </tr>\n",
       "    <tr>\n",
       "      <td>3</td>\n",
       "      <td>4</td>\n",
       "      <td>1.0</td>\n",
       "      <td>1</td>\n",
       "      <td>female</td>\n",
       "      <td>35.0</td>\n",
       "      <td>1</td>\n",
       "      <td>0</td>\n",
       "      <td>53.1000</td>\n",
       "      <td>S</td>\n",
       "      <td>Mrs</td>\n",
       "    </tr>\n",
       "    <tr>\n",
       "      <td>4</td>\n",
       "      <td>5</td>\n",
       "      <td>0.0</td>\n",
       "      <td>3</td>\n",
       "      <td>male</td>\n",
       "      <td>35.0</td>\n",
       "      <td>0</td>\n",
       "      <td>0</td>\n",
       "      <td>8.0500</td>\n",
       "      <td>S</td>\n",
       "      <td>Mr</td>\n",
       "    </tr>\n",
       "  </tbody>\n",
       "</table>\n",
       "</div>"
      ],
      "text/plain": [
       "   PassengerId  Survived Pclass     Sex   Age  SibSp  Parch     Fare Embarked  \\\n",
       "0            1       0.0      3    male  22.0      1      0   7.2500        S   \n",
       "1            2       1.0      1  female  38.0      1      0  71.2833        C   \n",
       "2            3       1.0      3  female  26.0      0      0   7.9250        S   \n",
       "3            4       1.0      1  female  35.0      1      0  53.1000        S   \n",
       "4            5       0.0      3    male  35.0      0      0   8.0500        S   \n",
       "\n",
       "  Title  \n",
       "0    Mr  \n",
       "1   Mrs  \n",
       "2  Miss  \n",
       "3   Mrs  \n",
       "4    Mr  "
      ]
     },
     "execution_count": 237,
     "metadata": {},
     "output_type": "execute_result"
    }
   ],
   "source": [
    "df_clean.head()"
   ]
  },
  {
   "cell_type": "code",
   "execution_count": 238,
   "metadata": {},
   "outputs": [
    {
     "data": {
      "text/html": [
       "<div>\n",
       "<style scoped>\n",
       "    .dataframe tbody tr th:only-of-type {\n",
       "        vertical-align: middle;\n",
       "    }\n",
       "\n",
       "    .dataframe tbody tr th {\n",
       "        vertical-align: top;\n",
       "    }\n",
       "\n",
       "    .dataframe thead th {\n",
       "        text-align: right;\n",
       "    }\n",
       "</style>\n",
       "<table border=\"1\" class=\"dataframe\">\n",
       "  <thead>\n",
       "    <tr style=\"text-align: right;\">\n",
       "      <th></th>\n",
       "      <th>PassengerId</th>\n",
       "      <th>Name</th>\n",
       "      <th>Ticket</th>\n",
       "    </tr>\n",
       "  </thead>\n",
       "  <tbody>\n",
       "    <tr>\n",
       "      <td>0</td>\n",
       "      <td>1</td>\n",
       "      <td>Braund, Mr. Owen Harris</td>\n",
       "      <td>A/5 21171</td>\n",
       "    </tr>\n",
       "    <tr>\n",
       "      <td>1</td>\n",
       "      <td>2</td>\n",
       "      <td>Cumings, Mrs. John Bradley (Florence Briggs Th...</td>\n",
       "      <td>PC 17599</td>\n",
       "    </tr>\n",
       "    <tr>\n",
       "      <td>2</td>\n",
       "      <td>3</td>\n",
       "      <td>Heikkinen, Miss. Laina</td>\n",
       "      <td>STON/O2. 3101282</td>\n",
       "    </tr>\n",
       "    <tr>\n",
       "      <td>3</td>\n",
       "      <td>4</td>\n",
       "      <td>Futrelle, Mrs. Jacques Heath (Lily May Peel)</td>\n",
       "      <td>113803</td>\n",
       "    </tr>\n",
       "    <tr>\n",
       "      <td>4</td>\n",
       "      <td>5</td>\n",
       "      <td>Allen, Mr. William Henry</td>\n",
       "      <td>373450</td>\n",
       "    </tr>\n",
       "  </tbody>\n",
       "</table>\n",
       "</div>"
      ],
      "text/plain": [
       "   PassengerId                                               Name  \\\n",
       "0            1                            Braund, Mr. Owen Harris   \n",
       "1            2  Cumings, Mrs. John Bradley (Florence Briggs Th...   \n",
       "2            3                             Heikkinen, Miss. Laina   \n",
       "3            4       Futrelle, Mrs. Jacques Heath (Lily May Peel)   \n",
       "4            5                           Allen, Mr. William Henry   \n",
       "\n",
       "             Ticket  \n",
       "0         A/5 21171  \n",
       "1          PC 17599  \n",
       "2  STON/O2. 3101282  \n",
       "3            113803  \n",
       "4            373450  "
      ]
     },
     "execution_count": 238,
     "metadata": {},
     "output_type": "execute_result"
    }
   ],
   "source": [
    "passengers.head()"
   ]
  },
  {
   "cell_type": "markdown",
   "metadata": {},
   "source": [
    "### Categorization of column Age\n",
    "\n",
    "> I´m going to categorize the column Age. Let´s see first how it is distributed"
   ]
  },
  {
   "cell_type": "code",
   "execution_count": 239,
   "metadata": {},
   "outputs": [
    {
     "data": {
      "image/png": "[encoded data removed]",
      "text/plain": [
       "<Figure size 432x288 with 1 Axes>"
      ]
     },
     "metadata": {
      "needs_background": "light"
     },
     "output_type": "display_data"
    }
   ],
   "source": [
    "bin_edges = np.arange(0, df_clean['Age'].max()+5, 5)\n",
    "plt.hist(data = df_clean, x = 'Age', bins = bin_edges);\n",
    "plt.title('Age of the passengers');\n",
    "plt.ylabel('Number of passengers');"
   ]
  },
  {
   "cell_type": "markdown",
   "metadata": {},
   "source": [
    "> There are three great blocks: children (0 to 15 years old), Young (15 to 40), Adults (40-50), Old(>50). I´m going to create a new column with this categories"
   ]
  },
  {
   "cell_type": "code",
   "execution_count": 240,
   "metadata": {},
   "outputs": [],
   "source": [
    "def age_cat(age):\n",
    "    if age <=15:\n",
    "        cat_age = 'Child'\n",
    "    elif ((age > 15) & (age <=40)):\n",
    "        cat_age = 'Young'\n",
    "    elif ((age > 40) & (age <=50)):\n",
    "        cat_age = 'Adult'\n",
    "    elif age > 50:\n",
    "        cat_age = 'Old'\n",
    "    return cat_age\n",
    "\n",
    "#I replace the -1 with the mean of the title\n",
    "df_clean['Age_Cat'] = df_clean.apply(lambda x: age_cat(x['Age']),axis=1)\n",
    "\n",
    "#Drop Age column\n",
    "df_clean = df_clean.drop('Age', axis=1)"
   ]
  },
  {
   "cell_type": "code",
   "execution_count": 241,
   "metadata": {},
   "outputs": [
    {
     "data": {
      "text/html": [
       "<div>\n",
       "<style scoped>\n",
       "    .dataframe tbody tr th:only-of-type {\n",
       "        vertical-align: middle;\n",
       "    }\n",
       "\n",
       "    .dataframe tbody tr th {\n",
       "        vertical-align: top;\n",
       "    }\n",
       "\n",
       "    .dataframe thead th {\n",
       "        text-align: right;\n",
       "    }\n",
       "</style>\n",
       "<table border=\"1\" class=\"dataframe\">\n",
       "  <thead>\n",
       "    <tr style=\"text-align: right;\">\n",
       "      <th></th>\n",
       "      <th>PassengerId</th>\n",
       "      <th>Survived</th>\n",
       "      <th>Pclass</th>\n",
       "      <th>Sex</th>\n",
       "      <th>SibSp</th>\n",
       "      <th>Parch</th>\n",
       "      <th>Fare</th>\n",
       "      <th>Embarked</th>\n",
       "      <th>Title</th>\n",
       "      <th>Age_Cat</th>\n",
       "    </tr>\n",
       "  </thead>\n",
       "  <tbody>\n",
       "    <tr>\n",
       "      <td>0</td>\n",
       "      <td>1</td>\n",
       "      <td>0.0</td>\n",
       "      <td>3</td>\n",
       "      <td>male</td>\n",
       "      <td>1</td>\n",
       "      <td>0</td>\n",
       "      <td>7.2500</td>\n",
       "      <td>S</td>\n",
       "      <td>Mr</td>\n",
       "      <td>Young</td>\n",
       "    </tr>\n",
       "    <tr>\n",
       "      <td>1</td>\n",
       "      <td>2</td>\n",
       "      <td>1.0</td>\n",
       "      <td>1</td>\n",
       "      <td>female</td>\n",
       "      <td>1</td>\n",
       "      <td>0</td>\n",
       "      <td>71.2833</td>\n",
       "      <td>C</td>\n",
       "      <td>Mrs</td>\n",
       "      <td>Young</td>\n",
       "    </tr>\n",
       "    <tr>\n",
       "      <td>2</td>\n",
       "      <td>3</td>\n",
       "      <td>1.0</td>\n",
       "      <td>3</td>\n",
       "      <td>female</td>\n",
       "      <td>0</td>\n",
       "      <td>0</td>\n",
       "      <td>7.9250</td>\n",
       "      <td>S</td>\n",
       "      <td>Miss</td>\n",
       "      <td>Young</td>\n",
       "    </tr>\n",
       "    <tr>\n",
       "      <td>3</td>\n",
       "      <td>4</td>\n",
       "      <td>1.0</td>\n",
       "      <td>1</td>\n",
       "      <td>female</td>\n",
       "      <td>1</td>\n",
       "      <td>0</td>\n",
       "      <td>53.1000</td>\n",
       "      <td>S</td>\n",
       "      <td>Mrs</td>\n",
       "      <td>Young</td>\n",
       "    </tr>\n",
       "    <tr>\n",
       "      <td>4</td>\n",
       "      <td>5</td>\n",
       "      <td>0.0</td>\n",
       "      <td>3</td>\n",
       "      <td>male</td>\n",
       "      <td>0</td>\n",
       "      <td>0</td>\n",
       "      <td>8.0500</td>\n",
       "      <td>S</td>\n",
       "      <td>Mr</td>\n",
       "      <td>Young</td>\n",
       "    </tr>\n",
       "  </tbody>\n",
       "</table>\n",
       "</div>"
      ],
      "text/plain": [
       "   PassengerId  Survived Pclass     Sex  SibSp  Parch     Fare Embarked Title  \\\n",
       "0            1       0.0      3    male      1      0   7.2500        S    Mr   \n",
       "1            2       1.0      1  female      1      0  71.2833        C   Mrs   \n",
       "2            3       1.0      3  female      0      0   7.9250        S  Miss   \n",
       "3            4       1.0      1  female      1      0  53.1000        S   Mrs   \n",
       "4            5       0.0      3    male      0      0   8.0500        S    Mr   \n",
       "\n",
       "  Age_Cat  \n",
       "0   Young  \n",
       "1   Young  \n",
       "2   Young  \n",
       "3   Young  \n",
       "4   Young  "
      ]
     },
     "execution_count": 241,
     "metadata": {},
     "output_type": "execute_result"
    }
   ],
   "source": [
    "df_clean.head()"
   ]
  },
  {
   "cell_type": "code",
   "execution_count": 242,
   "metadata": {},
   "outputs": [
    {
     "data": {
      "text/plain": [
       "Young    959\n",
       "Adult    132\n",
       "Child    123\n",
       "Old       95\n",
       "Name: Age_Cat, dtype: int64"
      ]
     },
     "execution_count": 242,
     "metadata": {},
     "output_type": "execute_result"
    }
   ],
   "source": [
    "df_clean.Age_Cat.value_counts()"
   ]
  },
  {
   "cell_type": "markdown",
   "metadata": {},
   "source": [
    "### Categorization of column Fare\n",
    "\n",
    "> I´m going to categorize the column Fare. Let´s see first how it is distributed"
   ]
  },
  {
   "cell_type": "code",
   "execution_count": 243,
   "metadata": {},
   "outputs": [
    {
     "data": {
      "image/png": "[encoded data removed]",
      "text/plain": [
       "<Figure size 432x288 with 1 Axes>"
      ]
     },
     "metadata": {
      "needs_background": "light"
     },
     "output_type": "display_data"
    }
   ],
   "source": [
    "bin_edges = np.arange(0, df_clean['Fare'].max()+5, 5)\n",
    "plt.hist(data = df_clean, x = 'Fare', bins = bin_edges);\n",
    "plt.title('Ticket Fare');\n",
    "plt.ylabel('Number of passengers');"
   ]
  },
  {
   "cell_type": "markdown",
   "metadata": {},
   "source": [
    "> Let´s zoom it"
   ]
  },
  {
   "cell_type": "code",
   "execution_count": 244,
   "metadata": {},
   "outputs": [
    {
     "data": {
      "text/plain": [
       "(0, 100)"
      ]
     },
     "execution_count": 244,
     "metadata": {},
     "output_type": "execute_result"
    },
    {
     "data": {
      "image/png": "[encoded data removed]",
      "text/plain": [
       "<Figure size 432x288 with 1 Axes>"
      ]
     },
     "metadata": {
      "needs_background": "light"
     },
     "output_type": "display_data"
    }
   ],
   "source": [
    "bin_edges = np.arange(0, df_clean['Fare'].max()+5, 5)\n",
    "plt.hist(data = df_clean, x = 'Fare', bins = bin_edges);\n",
    "plt.title('Ticket Fare');\n",
    "plt.ylabel('Number of passengers');\n",
    "plt.xlim(0,100)"
   ]
  },
  {
   "cell_type": "markdown",
   "metadata": {},
   "source": [
    "> There are three great blocks: low (0 to 15), mid (15 to 40), high (>40-50). I´m going to create a new column with this categories"
   ]
  },
  {
   "cell_type": "code",
   "execution_count": 245,
   "metadata": {},
   "outputs": [],
   "source": [
    "def fare_cat(fare):\n",
    "    cat_fare = 'None'\n",
    "    if fare <=15:\n",
    "        cat_fare = 'Low'\n",
    "    elif ((fare > 15) & (fare <=40)):\n",
    "        cat_fare = 'Mid'\n",
    "    elif fare > 40:\n",
    "        cat_fare = 'High'\n",
    "    return cat_fare\n",
    "\n",
    "\n",
    "df_clean['Fare_Cat'] = df_clean.apply(lambda x: fare_cat(x['Fare']),axis=1)\n",
    "\n",
    "#Drop Fare column\n",
    "df_clean = df_clean.drop('Fare', axis=1)"
   ]
  },
  {
   "cell_type": "code",
   "execution_count": 246,
   "metadata": {},
   "outputs": [
    {
     "data": {
      "text/html": [
       "<div>\n",
       "<style scoped>\n",
       "    .dataframe tbody tr th:only-of-type {\n",
       "        vertical-align: middle;\n",
       "    }\n",
       "\n",
       "    .dataframe tbody tr th {\n",
       "        vertical-align: top;\n",
       "    }\n",
       "\n",
       "    .dataframe thead th {\n",
       "        text-align: right;\n",
       "    }\n",
       "</style>\n",
       "<table border=\"1\" class=\"dataframe\">\n",
       "  <thead>\n",
       "    <tr style=\"text-align: right;\">\n",
       "      <th></th>\n",
       "      <th>PassengerId</th>\n",
       "      <th>Survived</th>\n",
       "      <th>Pclass</th>\n",
       "      <th>Sex</th>\n",
       "      <th>SibSp</th>\n",
       "      <th>Parch</th>\n",
       "      <th>Embarked</th>\n",
       "      <th>Title</th>\n",
       "      <th>Age_Cat</th>\n",
       "      <th>Fare_Cat</th>\n",
       "    </tr>\n",
       "  </thead>\n",
       "  <tbody>\n",
       "    <tr>\n",
       "      <td>0</td>\n",
       "      <td>1</td>\n",
       "      <td>0.0</td>\n",
       "      <td>3</td>\n",
       "      <td>male</td>\n",
       "      <td>1</td>\n",
       "      <td>0</td>\n",
       "      <td>S</td>\n",
       "      <td>Mr</td>\n",
       "      <td>Young</td>\n",
       "      <td>Low</td>\n",
       "    </tr>\n",
       "    <tr>\n",
       "      <td>1</td>\n",
       "      <td>2</td>\n",
       "      <td>1.0</td>\n",
       "      <td>1</td>\n",
       "      <td>female</td>\n",
       "      <td>1</td>\n",
       "      <td>0</td>\n",
       "      <td>C</td>\n",
       "      <td>Mrs</td>\n",
       "      <td>Young</td>\n",
       "      <td>High</td>\n",
       "    </tr>\n",
       "    <tr>\n",
       "      <td>2</td>\n",
       "      <td>3</td>\n",
       "      <td>1.0</td>\n",
       "      <td>3</td>\n",
       "      <td>female</td>\n",
       "      <td>0</td>\n",
       "      <td>0</td>\n",
       "      <td>S</td>\n",
       "      <td>Miss</td>\n",
       "      <td>Young</td>\n",
       "      <td>Low</td>\n",
       "    </tr>\n",
       "    <tr>\n",
       "      <td>3</td>\n",
       "      <td>4</td>\n",
       "      <td>1.0</td>\n",
       "      <td>1</td>\n",
       "      <td>female</td>\n",
       "      <td>1</td>\n",
       "      <td>0</td>\n",
       "      <td>S</td>\n",
       "      <td>Mrs</td>\n",
       "      <td>Young</td>\n",
       "      <td>High</td>\n",
       "    </tr>\n",
       "    <tr>\n",
       "      <td>4</td>\n",
       "      <td>5</td>\n",
       "      <td>0.0</td>\n",
       "      <td>3</td>\n",
       "      <td>male</td>\n",
       "      <td>0</td>\n",
       "      <td>0</td>\n",
       "      <td>S</td>\n",
       "      <td>Mr</td>\n",
       "      <td>Young</td>\n",
       "      <td>Low</td>\n",
       "    </tr>\n",
       "  </tbody>\n",
       "</table>\n",
       "</div>"
      ],
      "text/plain": [
       "   PassengerId  Survived Pclass     Sex  SibSp  Parch Embarked Title Age_Cat  \\\n",
       "0            1       0.0      3    male      1      0        S    Mr   Young   \n",
       "1            2       1.0      1  female      1      0        C   Mrs   Young   \n",
       "2            3       1.0      3  female      0      0        S  Miss   Young   \n",
       "3            4       1.0      1  female      1      0        S   Mrs   Young   \n",
       "4            5       0.0      3    male      0      0        S    Mr   Young   \n",
       "\n",
       "  Fare_Cat  \n",
       "0      Low  \n",
       "1     High  \n",
       "2      Low  \n",
       "3     High  \n",
       "4      Low  "
      ]
     },
     "execution_count": 246,
     "metadata": {},
     "output_type": "execute_result"
    }
   ],
   "source": [
    "df_clean.head()"
   ]
  },
  {
   "cell_type": "code",
   "execution_count": 247,
   "metadata": {},
   "outputs": [
    {
     "data": {
      "text/plain": [
       "Low     674\n",
       "Mid     371\n",
       "High    264\n",
       "Name: Fare_Cat, dtype: int64"
      ]
     },
     "execution_count": 247,
     "metadata": {},
     "output_type": "execute_result"
    }
   ],
   "source": [
    "df_clean.Fare_Cat.value_counts()"
   ]
  },
  {
   "cell_type": "markdown",
   "metadata": {},
   "source": [
    "### Categorization of column SibSp\n",
    "\n",
    "> I´m going to categorize the column SibSp of number of Sibilings/Spouses as I think what affects to survive or not is to have Sibilings or Spouses but not how many"
   ]
  },
  {
   "cell_type": "code",
   "execution_count": 393,
   "metadata": {},
   "outputs": [],
   "source": [
    "def sibsp_cat(n_sibsp):\n",
    "    if n_sibsp == 0:\n",
    "        sibsp = 0\n",
    "    else:\n",
    "        sibsp = 1\n",
    "    return sibsp\n",
    "\n",
    "#I replace the -1 with the mean of the title\n",
    "df_clean['Sibsp_Cat'] = df_clean.apply(lambda x: sibsp_cat(x['SibSp']),axis=1)\n",
    "\n",
    "#Drop Age column\n",
    "df_clean = df_clean.drop('SibSp', axis=1)"
   ]
  },
  {
   "cell_type": "code",
   "execution_count": 394,
   "metadata": {},
   "outputs": [
    {
     "data": {
      "text/html": [
       "<div>\n",
       "<style scoped>\n",
       "    .dataframe tbody tr th:only-of-type {\n",
       "        vertical-align: middle;\n",
       "    }\n",
       "\n",
       "    .dataframe tbody tr th {\n",
       "        vertical-align: top;\n",
       "    }\n",
       "\n",
       "    .dataframe thead th {\n",
       "        text-align: right;\n",
       "    }\n",
       "</style>\n",
       "<table border=\"1\" class=\"dataframe\">\n",
       "  <thead>\n",
       "    <tr style=\"text-align: right;\">\n",
       "      <th></th>\n",
       "      <th>PassengerId</th>\n",
       "      <th>Survived</th>\n",
       "      <th>Pclass</th>\n",
       "      <th>Sex</th>\n",
       "      <th>Parch</th>\n",
       "      <th>Embarked</th>\n",
       "      <th>Title</th>\n",
       "      <th>Age_Cat</th>\n",
       "      <th>Fare_Cat</th>\n",
       "      <th>Sibsp_Cat</th>\n",
       "    </tr>\n",
       "  </thead>\n",
       "  <tbody>\n",
       "    <tr>\n",
       "      <td>0</td>\n",
       "      <td>1</td>\n",
       "      <td>0.0</td>\n",
       "      <td>3</td>\n",
       "      <td>male</td>\n",
       "      <td>0</td>\n",
       "      <td>S</td>\n",
       "      <td>Mr</td>\n",
       "      <td>Young</td>\n",
       "      <td>Low</td>\n",
       "      <td>1</td>\n",
       "    </tr>\n",
       "    <tr>\n",
       "      <td>1</td>\n",
       "      <td>2</td>\n",
       "      <td>1.0</td>\n",
       "      <td>1</td>\n",
       "      <td>female</td>\n",
       "      <td>0</td>\n",
       "      <td>C</td>\n",
       "      <td>Mrs</td>\n",
       "      <td>Young</td>\n",
       "      <td>High</td>\n",
       "      <td>1</td>\n",
       "    </tr>\n",
       "    <tr>\n",
       "      <td>2</td>\n",
       "      <td>3</td>\n",
       "      <td>1.0</td>\n",
       "      <td>3</td>\n",
       "      <td>female</td>\n",
       "      <td>0</td>\n",
       "      <td>S</td>\n",
       "      <td>Miss</td>\n",
       "      <td>Young</td>\n",
       "      <td>Low</td>\n",
       "      <td>0</td>\n",
       "    </tr>\n",
       "    <tr>\n",
       "      <td>3</td>\n",
       "      <td>4</td>\n",
       "      <td>1.0</td>\n",
       "      <td>1</td>\n",
       "      <td>female</td>\n",
       "      <td>0</td>\n",
       "      <td>S</td>\n",
       "      <td>Mrs</td>\n",
       "      <td>Young</td>\n",
       "      <td>High</td>\n",
       "      <td>1</td>\n",
       "    </tr>\n",
       "    <tr>\n",
       "      <td>4</td>\n",
       "      <td>5</td>\n",
       "      <td>0.0</td>\n",
       "      <td>3</td>\n",
       "      <td>male</td>\n",
       "      <td>0</td>\n",
       "      <td>S</td>\n",
       "      <td>Mr</td>\n",
       "      <td>Young</td>\n",
       "      <td>Low</td>\n",
       "      <td>0</td>\n",
       "    </tr>\n",
       "  </tbody>\n",
       "</table>\n",
       "</div>"
      ],
      "text/plain": [
       "   PassengerId  Survived Pclass     Sex  Parch Embarked Title Age_Cat  \\\n",
       "0            1       0.0      3    male      0        S    Mr   Young   \n",
       "1            2       1.0      1  female      0        C   Mrs   Young   \n",
       "2            3       1.0      3  female      0        S  Miss   Young   \n",
       "3            4       1.0      1  female      0        S   Mrs   Young   \n",
       "4            5       0.0      3    male      0        S    Mr   Young   \n",
       "\n",
       "  Fare_Cat  Sibsp_Cat  \n",
       "0      Low          1  \n",
       "1     High          1  \n",
       "2      Low          0  \n",
       "3     High          1  \n",
       "4      Low          0  "
      ]
     },
     "execution_count": 394,
     "metadata": {},
     "output_type": "execute_result"
    }
   ],
   "source": [
    "df_clean.head()"
   ]
  },
  {
   "cell_type": "markdown",
   "metadata": {},
   "source": [
    "### Categorization of column Parch\n",
    "\n",
    "> I´m going to categorize the column Parch of number of Children / Parents as I think what affects to survive or not is to have Sibilings or Spouses but not how many"
   ]
  },
  {
   "cell_type": "code",
   "execution_count": 401,
   "metadata": {},
   "outputs": [],
   "source": [
    "def parch_cat(n_parch):\n",
    "    if n_parch == 0:\n",
    "        parch = 0\n",
    "    else:\n",
    "        parch = 1\n",
    "    return parch\n",
    "\n",
    "#I replace the -1 with the mean of the title\n",
    "df_clean['Parch_Cat'] = df_clean.apply(lambda x: sibsp_cat(x['Parch']),axis=1)\n",
    "\n",
    "#Drop Age column\n",
    "df_clean = df_clean.drop('Parch', axis=1)"
   ]
  },
  {
   "cell_type": "code",
   "execution_count": 402,
   "metadata": {},
   "outputs": [
    {
     "data": {
      "text/html": [
       "<div>\n",
       "<style scoped>\n",
       "    .dataframe tbody tr th:only-of-type {\n",
       "        vertical-align: middle;\n",
       "    }\n",
       "\n",
       "    .dataframe tbody tr th {\n",
       "        vertical-align: top;\n",
       "    }\n",
       "\n",
       "    .dataframe thead th {\n",
       "        text-align: right;\n",
       "    }\n",
       "</style>\n",
       "<table border=\"1\" class=\"dataframe\">\n",
       "  <thead>\n",
       "    <tr style=\"text-align: right;\">\n",
       "      <th></th>\n",
       "      <th>PassengerId</th>\n",
       "      <th>Survived</th>\n",
       "      <th>Pclass</th>\n",
       "      <th>Sex</th>\n",
       "      <th>Embarked</th>\n",
       "      <th>Title</th>\n",
       "      <th>Age_Cat</th>\n",
       "      <th>Fare_Cat</th>\n",
       "      <th>Sibsp_Cat</th>\n",
       "      <th>Parch_Cat</th>\n",
       "    </tr>\n",
       "  </thead>\n",
       "  <tbody>\n",
       "    <tr>\n",
       "      <td>0</td>\n",
       "      <td>1</td>\n",
       "      <td>0.0</td>\n",
       "      <td>3</td>\n",
       "      <td>male</td>\n",
       "      <td>S</td>\n",
       "      <td>Mr</td>\n",
       "      <td>Young</td>\n",
       "      <td>Low</td>\n",
       "      <td>1</td>\n",
       "      <td>0</td>\n",
       "    </tr>\n",
       "    <tr>\n",
       "      <td>1</td>\n",
       "      <td>2</td>\n",
       "      <td>1.0</td>\n",
       "      <td>1</td>\n",
       "      <td>female</td>\n",
       "      <td>C</td>\n",
       "      <td>Mrs</td>\n",
       "      <td>Young</td>\n",
       "      <td>High</td>\n",
       "      <td>1</td>\n",
       "      <td>0</td>\n",
       "    </tr>\n",
       "    <tr>\n",
       "      <td>2</td>\n",
       "      <td>3</td>\n",
       "      <td>1.0</td>\n",
       "      <td>3</td>\n",
       "      <td>female</td>\n",
       "      <td>S</td>\n",
       "      <td>Miss</td>\n",
       "      <td>Young</td>\n",
       "      <td>Low</td>\n",
       "      <td>0</td>\n",
       "      <td>0</td>\n",
       "    </tr>\n",
       "    <tr>\n",
       "      <td>3</td>\n",
       "      <td>4</td>\n",
       "      <td>1.0</td>\n",
       "      <td>1</td>\n",
       "      <td>female</td>\n",
       "      <td>S</td>\n",
       "      <td>Mrs</td>\n",
       "      <td>Young</td>\n",
       "      <td>High</td>\n",
       "      <td>1</td>\n",
       "      <td>0</td>\n",
       "    </tr>\n",
       "    <tr>\n",
       "      <td>4</td>\n",
       "      <td>5</td>\n",
       "      <td>0.0</td>\n",
       "      <td>3</td>\n",
       "      <td>male</td>\n",
       "      <td>S</td>\n",
       "      <td>Mr</td>\n",
       "      <td>Young</td>\n",
       "      <td>Low</td>\n",
       "      <td>0</td>\n",
       "      <td>0</td>\n",
       "    </tr>\n",
       "  </tbody>\n",
       "</table>\n",
       "</div>"
      ],
      "text/plain": [
       "   PassengerId  Survived Pclass     Sex Embarked Title Age_Cat Fare_Cat  \\\n",
       "0            1       0.0      3    male        S    Mr   Young      Low   \n",
       "1            2       1.0      1  female        C   Mrs   Young     High   \n",
       "2            3       1.0      3  female        S  Miss   Young      Low   \n",
       "3            4       1.0      1  female        S   Mrs   Young     High   \n",
       "4            5       0.0      3    male        S    Mr   Young      Low   \n",
       "\n",
       "   Sibsp_Cat  Parch_Cat  \n",
       "0          1          0  \n",
       "1          1          0  \n",
       "2          0          0  \n",
       "3          1          0  \n",
       "4          0          0  "
      ]
     },
     "execution_count": 402,
     "metadata": {},
     "output_type": "execute_result"
    }
   ],
   "source": [
    "df_clean.head()"
   ]
  },
  {
   "cell_type": "markdown",
   "metadata": {},
   "source": [
    "### Consolidation of dataframes\n",
    "\n",
    "> In this section I´m going to consolidate both dataframes into files, that I´ll read for the next sections"
   ]
  },
  {
   "cell_type": "code",
   "execution_count": 403,
   "metadata": {},
   "outputs": [],
   "source": [
    "df_clean.to_csv('Titanic_info.csv', index = False)\n",
    "passengers.to_csv('Titanic_pass_info.csv', index = False)"
   ]
  },
  {
   "cell_type": "markdown",
   "metadata": {},
   "source": [
    "# Exploratory Data Analysis (EDA)\n",
    "\n",
    "> In this section, I´ll investigate the distributions variables in the big dataframe. \n",
    "\n",
    "> I won´t investigate the columns of passenger id, as it is just an identifier, and its value in a univariate exploration doesn´t make sense, and I won´t either investigate the Survived column as it´s incomplete\n",
    "\n",
    "> First I´ll import the data stored previously in files"
   ]
  },
  {
   "cell_type": "code",
   "execution_count": 404,
   "metadata": {},
   "outputs": [],
   "source": [
    "df_tit = pd.read_csv('Titanic_info.csv')\n",
    "df_pass = pd.read_csv('Titanic_pass_info.csv')"
   ]
  },
  {
   "cell_type": "code",
   "execution_count": 405,
   "metadata": {},
   "outputs": [
    {
     "data": {
      "text/html": [
       "<div>\n",
       "<style scoped>\n",
       "    .dataframe tbody tr th:only-of-type {\n",
       "        vertical-align: middle;\n",
       "    }\n",
       "\n",
       "    .dataframe tbody tr th {\n",
       "        vertical-align: top;\n",
       "    }\n",
       "\n",
       "    .dataframe thead th {\n",
       "        text-align: right;\n",
       "    }\n",
       "</style>\n",
       "<table border=\"1\" class=\"dataframe\">\n",
       "  <thead>\n",
       "    <tr style=\"text-align: right;\">\n",
       "      <th></th>\n",
       "      <th>PassengerId</th>\n",
       "      <th>Survived</th>\n",
       "      <th>Pclass</th>\n",
       "      <th>Sex</th>\n",
       "      <th>Embarked</th>\n",
       "      <th>Title</th>\n",
       "      <th>Age_Cat</th>\n",
       "      <th>Fare_Cat</th>\n",
       "      <th>Sibsp_Cat</th>\n",
       "      <th>Parch_Cat</th>\n",
       "    </tr>\n",
       "  </thead>\n",
       "  <tbody>\n",
       "    <tr>\n",
       "      <td>0</td>\n",
       "      <td>1</td>\n",
       "      <td>0.0</td>\n",
       "      <td>3</td>\n",
       "      <td>male</td>\n",
       "      <td>S</td>\n",
       "      <td>Mr</td>\n",
       "      <td>Young</td>\n",
       "      <td>Low</td>\n",
       "      <td>1</td>\n",
       "      <td>0</td>\n",
       "    </tr>\n",
       "    <tr>\n",
       "      <td>1</td>\n",
       "      <td>2</td>\n",
       "      <td>1.0</td>\n",
       "      <td>1</td>\n",
       "      <td>female</td>\n",
       "      <td>C</td>\n",
       "      <td>Mrs</td>\n",
       "      <td>Young</td>\n",
       "      <td>High</td>\n",
       "      <td>1</td>\n",
       "      <td>0</td>\n",
       "    </tr>\n",
       "    <tr>\n",
       "      <td>2</td>\n",
       "      <td>3</td>\n",
       "      <td>1.0</td>\n",
       "      <td>3</td>\n",
       "      <td>female</td>\n",
       "      <td>S</td>\n",
       "      <td>Miss</td>\n",
       "      <td>Young</td>\n",
       "      <td>Low</td>\n",
       "      <td>0</td>\n",
       "      <td>0</td>\n",
       "    </tr>\n",
       "    <tr>\n",
       "      <td>3</td>\n",
       "      <td>4</td>\n",
       "      <td>1.0</td>\n",
       "      <td>1</td>\n",
       "      <td>female</td>\n",
       "      <td>S</td>\n",
       "      <td>Mrs</td>\n",
       "      <td>Young</td>\n",
       "      <td>High</td>\n",
       "      <td>1</td>\n",
       "      <td>0</td>\n",
       "    </tr>\n",
       "    <tr>\n",
       "      <td>4</td>\n",
       "      <td>5</td>\n",
       "      <td>0.0</td>\n",
       "      <td>3</td>\n",
       "      <td>male</td>\n",
       "      <td>S</td>\n",
       "      <td>Mr</td>\n",
       "      <td>Young</td>\n",
       "      <td>Low</td>\n",
       "      <td>0</td>\n",
       "      <td>0</td>\n",
       "    </tr>\n",
       "  </tbody>\n",
       "</table>\n",
       "</div>"
      ],
      "text/plain": [
       "   PassengerId  Survived  Pclass     Sex Embarked Title Age_Cat Fare_Cat  \\\n",
       "0            1       0.0       3    male        S    Mr   Young      Low   \n",
       "1            2       1.0       1  female        C   Mrs   Young     High   \n",
       "2            3       1.0       3  female        S  Miss   Young      Low   \n",
       "3            4       1.0       1  female        S   Mrs   Young     High   \n",
       "4            5       0.0       3    male        S    Mr   Young      Low   \n",
       "\n",
       "   Sibsp_Cat  Parch_Cat  \n",
       "0          1          0  \n",
       "1          1          0  \n",
       "2          0          0  \n",
       "3          1          0  \n",
       "4          0          0  "
      ]
     },
     "execution_count": 405,
     "metadata": {},
     "output_type": "execute_result"
    }
   ],
   "source": [
    "df_tit.head()"
   ]
  },
  {
   "cell_type": "code",
   "execution_count": 413,
   "metadata": {},
   "outputs": [],
   "source": [
    "#due to importing issues I´ve to change the datatype of Pclass\n",
    "df_tit.Pclass = df_tit.Pclass.astype(str)\n",
    "df_tit.Sibsp_Cat = df_tit.Sibsp_Cat.astype(str)\n",
    "df_tit.Parch_Cat = df_tit.Parch_Cat.astype(str)"
   ]
  },
  {
   "cell_type": "code",
   "execution_count": 407,
   "metadata": {},
   "outputs": [
    {
     "name": "stdout",
     "output_type": "stream",
     "text": [
      "<class 'pandas.core.frame.DataFrame'>\n",
      "RangeIndex: 1309 entries, 0 to 1308\n",
      "Data columns (total 10 columns):\n",
      "PassengerId    1309 non-null int64\n",
      "Survived       891 non-null float64\n",
      "Pclass         1309 non-null object\n",
      "Sex            1309 non-null object\n",
      "Embarked       1309 non-null object\n",
      "Title          1309 non-null object\n",
      "Age_Cat        1309 non-null object\n",
      "Fare_Cat       1309 non-null object\n",
      "Sibsp_Cat      1309 non-null int64\n",
      "Parch_Cat      1309 non-null int64\n",
      "dtypes: float64(1), int64(3), object(6)\n",
      "memory usage: 102.4+ KB\n"
     ]
    }
   ],
   "source": [
    "df_tit.info()"
   ]
  },
  {
   "cell_type": "code",
   "execution_count": 408,
   "metadata": {},
   "outputs": [
    {
     "data": {
      "text/html": [
       "<div>\n",
       "<style scoped>\n",
       "    .dataframe tbody tr th:only-of-type {\n",
       "        vertical-align: middle;\n",
       "    }\n",
       "\n",
       "    .dataframe tbody tr th {\n",
       "        vertical-align: top;\n",
       "    }\n",
       "\n",
       "    .dataframe thead th {\n",
       "        text-align: right;\n",
       "    }\n",
       "</style>\n",
       "<table border=\"1\" class=\"dataframe\">\n",
       "  <thead>\n",
       "    <tr style=\"text-align: right;\">\n",
       "      <th></th>\n",
       "      <th>PassengerId</th>\n",
       "      <th>Name</th>\n",
       "      <th>Ticket</th>\n",
       "    </tr>\n",
       "  </thead>\n",
       "  <tbody>\n",
       "    <tr>\n",
       "      <td>0</td>\n",
       "      <td>1</td>\n",
       "      <td>Braund, Mr. Owen Harris</td>\n",
       "      <td>A/5 21171</td>\n",
       "    </tr>\n",
       "    <tr>\n",
       "      <td>1</td>\n",
       "      <td>2</td>\n",
       "      <td>Cumings, Mrs. John Bradley (Florence Briggs Th...</td>\n",
       "      <td>PC 17599</td>\n",
       "    </tr>\n",
       "    <tr>\n",
       "      <td>2</td>\n",
       "      <td>3</td>\n",
       "      <td>Heikkinen, Miss. Laina</td>\n",
       "      <td>STON/O2. 3101282</td>\n",
       "    </tr>\n",
       "    <tr>\n",
       "      <td>3</td>\n",
       "      <td>4</td>\n",
       "      <td>Futrelle, Mrs. Jacques Heath (Lily May Peel)</td>\n",
       "      <td>113803</td>\n",
       "    </tr>\n",
       "    <tr>\n",
       "      <td>4</td>\n",
       "      <td>5</td>\n",
       "      <td>Allen, Mr. William Henry</td>\n",
       "      <td>373450</td>\n",
       "    </tr>\n",
       "  </tbody>\n",
       "</table>\n",
       "</div>"
      ],
      "text/plain": [
       "   PassengerId                                               Name  \\\n",
       "0            1                            Braund, Mr. Owen Harris   \n",
       "1            2  Cumings, Mrs. John Bradley (Florence Briggs Th...   \n",
       "2            3                             Heikkinen, Miss. Laina   \n",
       "3            4       Futrelle, Mrs. Jacques Heath (Lily May Peel)   \n",
       "4            5                           Allen, Mr. William Henry   \n",
       "\n",
       "             Ticket  \n",
       "0         A/5 21171  \n",
       "1          PC 17599  \n",
       "2  STON/O2. 3101282  \n",
       "3            113803  \n",
       "4            373450  "
      ]
     },
     "execution_count": 408,
     "metadata": {},
     "output_type": "execute_result"
    }
   ],
   "source": [
    "df_pass.head()"
   ]
  },
  {
   "cell_type": "code",
   "execution_count": 409,
   "metadata": {},
   "outputs": [
    {
     "name": "stdout",
     "output_type": "stream",
     "text": [
      "<class 'pandas.core.frame.DataFrame'>\n",
      "RangeIndex: 1309 entries, 0 to 1308\n",
      "Data columns (total 3 columns):\n",
      "PassengerId    1309 non-null int64\n",
      "Name           1309 non-null object\n",
      "Ticket         1309 non-null object\n",
      "dtypes: int64(1), object(2)\n",
      "memory usage: 30.8+ KB\n"
     ]
    }
   ],
   "source": [
    "df_pass.info()"
   ]
  },
  {
   "cell_type": "code",
   "execution_count": 410,
   "metadata": {},
   "outputs": [],
   "source": [
    "#creation of a function for plotting the text columns\n",
    "def graph_1(title, data, field, rot):\n",
    "    # create the plot\n",
    "    base_color = sb.color_palette()[0]\n",
    "    sb.countplot(data = data, x = field, color = base_color)\n",
    "    plt.xlabel('')\n",
    "    plt.ylabel('Number of passengers')\n",
    "\n",
    "\n",
    "    # add annotations\n",
    "    n_points = data[field].count()\n",
    "    cat_counts = data[field].value_counts()\n",
    "    locs, labels = plt.xticks() # get the current tick locations and labels\n",
    "\n",
    "    # loop through each pair of locations and labels\n",
    "    for loc, label in zip(locs, labels):\n",
    "\n",
    "        # get the text property for the label to get the correct count\n",
    "        count = cat_counts[label.get_text()]\n",
    "        pct_string = '{:0.1f}%'.format(100*count/n_points)\n",
    "\n",
    "        # print the annotation just below the top of the bar\n",
    "        plt.text(loc, 5, pct_string, ha = 'center', color = 'k')\n",
    "    plt.xticks(rotation = rot);\n",
    "    plt.title(title);"
   ]
  },
  {
   "cell_type": "markdown",
   "metadata": {},
   "source": [
    "## Passengers Characteristics"
   ]
  },
  {
   "cell_type": "code",
   "execution_count": 415,
   "metadata": {},
   "outputs": [
    {
     "data": {
      "image/png": "[encoded data removed]",
      "text/plain": [
       "<Figure size 720x1080 with 8 Axes>"
      ]
     },
     "metadata": {
      "needs_background": "light"
     },
     "output_type": "display_data"
    }
   ],
   "source": [
    "plt.figure(figsize = [10, 15])\n",
    "\n",
    "\n",
    "plt.subplot(4, 2, 1)\n",
    "graph_1('Passenger Class', df_tit,'Pclass',0)\n",
    "\n",
    "plt.subplot(4, 2, 2)\n",
    "graph_1('Sex of the passengers', df_tit,'Sex',0)\n",
    "\n",
    "plt.subplot(4, 2, 3)\n",
    "level_order = ['Child', 'Young', 'Adult', 'Old']\n",
    "ordered_cat = pd.api.types.CategoricalDtype(ordered = True, categories = level_order)\n",
    "df_tit['Age_Cat'] = df_tit['Age_Cat'].astype(ordered_cat)\n",
    "\n",
    "graph_1('Age of the passengers', df_tit,'Age_Cat',0)\n",
    "\n",
    "plt.subplot(4, 2, 4)\n",
    "graph_1('Siblings / spouses aboard?', df_tit,'Sibsp_Cat',0)\n",
    "\n",
    "plt.subplot(4, 2, 5)\n",
    "graph_1('Parents / children aboard?', df_tit,'Parch_Cat',0)\n",
    "\n",
    "plt.subplot(4, 2, 6)\n",
    "level_order = ['Low', 'Mid', 'High']\n",
    "ordered_cat = pd.api.types.CategoricalDtype(ordered = True, categories = level_order)\n",
    "df_tit['Fare_Cat'] = df_tit['Fare_Cat'].astype(ordered_cat)\n",
    "\n",
    "graph_1('Ticket Fare', df_tit,'Fare_Cat',0)\n",
    "\n",
    "plt.subplot(4, 2, 7)\n",
    "graph_1('Port of Embarkation', df_tit,'Embarked',0)\n",
    "plt.xticks([0, 1, 2], ['Southampton', 'Cherbourg', 'Queenstown']);\n",
    "\n",
    "plt.subplot(4, 2, 8)\n",
    "graph_1('Title of Passenger', df_tit,'Title',0)"
   ]
  },
  {
   "cell_type": "markdown",
   "metadata": {},
   "source": [
    "> We can see that most of the passengers embarked in Southampton and they are young males (between 15 and 40 years old) travelling on their own (no sibilings, spouses, parents or children on board) who paid a low fare ticket in Class 3"
   ]
  },
  {
   "cell_type": "markdown",
   "metadata": {},
   "source": [
    "## Survival Characteristics\n",
    "\n",
    "As this is a Kaggle competition we don´t know the target value for all data so we will infer through different probabilities who survived and not, but only from the train data. This data will be used for getting a machine learning algorith for predicting the test values\n",
    "\n",
    "I´ll show the probability of survival depending on different characteristics of passengers, so we´ll know what are the features that affect most for survive"
   ]
  },
  {
   "cell_type": "code",
   "execution_count": 416,
   "metadata": {},
   "outputs": [],
   "source": [
    "#create the dataframe of the passengers we have the data of survivor or not\n",
    "df_surv = df_tit[df_tit.Survived> -1]\n",
    "n_pass = len(df_surv)"
   ]
  },
  {
   "cell_type": "markdown",
   "metadata": {},
   "source": [
    ">**CLASS VS SURVIVOR**"
   ]
  },
  {
   "cell_type": "code",
   "execution_count": 356,
   "metadata": {},
   "outputs": [
    {
     "name": "stdout",
     "output_type": "stream",
     "text": [
      "Passengers Class\n",
      "To be in Class 1  gave a probability of survivor of 0.63\n",
      "To be in Class 2  gave a probability of survivor of 0.473\n",
      "To be in Class 3  gave a probability of survivor of 0.242\n"
     ]
    }
   ],
   "source": [
    "Pr_cl1_Surv = round(len(df_surv[(df_surv.Pclass == '1') & (df_surv.Survived == 1)])/ len(df_surv[df_surv.Pclass == '1']),3)\n",
    "Pr_cl2_Surv = round(len(df_surv[(df_surv.Pclass == '2') & (df_surv.Survived == 1)])/ len(df_surv[df_surv.Pclass == '2']),3)\n",
    "Pr_cl3_Surv = round(len(df_surv[(df_surv.Pclass == '3') & (df_surv.Survived == 1)])/ len(df_surv[df_surv.Pclass == '3']),3)\n",
    "\n",
    "data = {'Class':  ['1', '2','3'],\n",
    "        'Rate_Survivors': [Pr_cl1_Surv, Pr_cl2_Surv,Pr_cl3_Surv]}\n",
    "df_cl_surv = pd.DataFrame (data, columns = ['Class','Rate_Survivors'])\n",
    "\n",
    "print(\"Passengers Class\")\n",
    "print(\"To be in Class 1  gave a probability of survivor of\", Pr_cl1_Surv)\n",
    "print(\"To be in Class 2  gave a probability of survivor of\", Pr_cl2_Surv)\n",
    "print(\"To be in Class 3  gave a probability of survivor of\", Pr_cl3_Surv)"
   ]
  },
  {
   "cell_type": "markdown",
   "metadata": {},
   "source": [
    "**SEX VS SURVIVOR**"
   ]
  },
  {
   "cell_type": "code",
   "execution_count": 380,
   "metadata": {},
   "outputs": [
    {
     "name": "stdout",
     "output_type": "stream",
     "text": [
      "Passengers Sex\n",
      "Being male gave a probability of survivor of 0.19\n",
      "Being female gave a probability of survivor of 0.74\n"
     ]
    }
   ],
   "source": [
    "Pr_male_Surv = round(len(df_surv[(df_surv.Sex == 'male') & (df_surv.Survived == 1)])/ len(df_surv[df_surv.Sex == 'male']),2)\n",
    "Pr_female_Surv = round(len(df_surv[(df_surv.Sex == 'female') & (df_surv.Survived == 1)])/ len(df_surv[df_surv.Sex == 'female']),2)\n",
    "\n",
    "data = {'Sex':  ['Male', 'Female'],\n",
    "        'Rate_Survivors': [Pr_male_Surv, Pr_female_Surv]}\n",
    "df_sex_surv = pd.DataFrame (data, columns = ['Sex','Rate_Survivors'])\n",
    "\n",
    "print(\"Passengers Sex\")\n",
    "print(\"Being male gave a probability of survivor of\", Pr_male_Surv)\n",
    "print(\"Being female gave a probability of survivor of\", Pr_female_Surv)"
   ]
  },
  {
   "cell_type": "code",
   "execution_count": 417,
   "metadata": {},
   "outputs": [
    {
     "data": {
      "text/html": [
       "<div>\n",
       "<style scoped>\n",
       "    .dataframe tbody tr th:only-of-type {\n",
       "        vertical-align: middle;\n",
       "    }\n",
       "\n",
       "    .dataframe tbody tr th {\n",
       "        vertical-align: top;\n",
       "    }\n",
       "\n",
       "    .dataframe thead th {\n",
       "        text-align: right;\n",
       "    }\n",
       "</style>\n",
       "<table border=\"1\" class=\"dataframe\">\n",
       "  <thead>\n",
       "    <tr style=\"text-align: right;\">\n",
       "      <th></th>\n",
       "      <th>PassengerId</th>\n",
       "      <th>Survived</th>\n",
       "      <th>Pclass</th>\n",
       "      <th>Sex</th>\n",
       "      <th>Embarked</th>\n",
       "      <th>Title</th>\n",
       "      <th>Age_Cat</th>\n",
       "      <th>Fare_Cat</th>\n",
       "      <th>Sibsp_Cat</th>\n",
       "      <th>Parch_Cat</th>\n",
       "    </tr>\n",
       "  </thead>\n",
       "  <tbody>\n",
       "    <tr>\n",
       "      <td>0</td>\n",
       "      <td>1</td>\n",
       "      <td>0.0</td>\n",
       "      <td>3</td>\n",
       "      <td>male</td>\n",
       "      <td>S</td>\n",
       "      <td>Mr</td>\n",
       "      <td>Young</td>\n",
       "      <td>Low</td>\n",
       "      <td>1</td>\n",
       "      <td>0</td>\n",
       "    </tr>\n",
       "    <tr>\n",
       "      <td>1</td>\n",
       "      <td>2</td>\n",
       "      <td>1.0</td>\n",
       "      <td>1</td>\n",
       "      <td>female</td>\n",
       "      <td>C</td>\n",
       "      <td>Mrs</td>\n",
       "      <td>Young</td>\n",
       "      <td>High</td>\n",
       "      <td>1</td>\n",
       "      <td>0</td>\n",
       "    </tr>\n",
       "    <tr>\n",
       "      <td>2</td>\n",
       "      <td>3</td>\n",
       "      <td>1.0</td>\n",
       "      <td>3</td>\n",
       "      <td>female</td>\n",
       "      <td>S</td>\n",
       "      <td>Miss</td>\n",
       "      <td>Young</td>\n",
       "      <td>Low</td>\n",
       "      <td>0</td>\n",
       "      <td>0</td>\n",
       "    </tr>\n",
       "    <tr>\n",
       "      <td>3</td>\n",
       "      <td>4</td>\n",
       "      <td>1.0</td>\n",
       "      <td>1</td>\n",
       "      <td>female</td>\n",
       "      <td>S</td>\n",
       "      <td>Mrs</td>\n",
       "      <td>Young</td>\n",
       "      <td>High</td>\n",
       "      <td>1</td>\n",
       "      <td>0</td>\n",
       "    </tr>\n",
       "    <tr>\n",
       "      <td>4</td>\n",
       "      <td>5</td>\n",
       "      <td>0.0</td>\n",
       "      <td>3</td>\n",
       "      <td>male</td>\n",
       "      <td>S</td>\n",
       "      <td>Mr</td>\n",
       "      <td>Young</td>\n",
       "      <td>Low</td>\n",
       "      <td>0</td>\n",
       "      <td>0</td>\n",
       "    </tr>\n",
       "  </tbody>\n",
       "</table>\n",
       "</div>"
      ],
      "text/plain": [
       "   PassengerId  Survived Pclass     Sex Embarked Title Age_Cat Fare_Cat  \\\n",
       "0            1       0.0      3    male        S    Mr   Young      Low   \n",
       "1            2       1.0      1  female        C   Mrs   Young     High   \n",
       "2            3       1.0      3  female        S  Miss   Young      Low   \n",
       "3            4       1.0      1  female        S   Mrs   Young     High   \n",
       "4            5       0.0      3    male        S    Mr   Young      Low   \n",
       "\n",
       "  Sibsp_Cat Parch_Cat  \n",
       "0         1         0  \n",
       "1         1         0  \n",
       "2         0         0  \n",
       "3         1         0  \n",
       "4         0         0  "
      ]
     },
     "execution_count": 417,
     "metadata": {},
     "output_type": "execute_result"
    }
   ],
   "source": [
    "df_surv.head()"
   ]
  },
  {
   "cell_type": "markdown",
   "metadata": {},
   "source": [
    "> **SIBILINGS /SPOUSES VS SURVIVOR**"
   ]
  },
  {
   "cell_type": "code",
   "execution_count": 422,
   "metadata": {},
   "outputs": [
    {
     "name": "stdout",
     "output_type": "stream",
     "text": [
      "Sibilings / Spouses of Passengers\n",
      "Not having sibilings or spouses on board gave a probability of survivor of 0.35\n",
      "Having sibilings or spouses on board gave a probability of survivor of 0.47\n"
     ]
    }
   ],
   "source": [
    "Pr_sbsp0_Surv = round(len(df_surv[(df_surv.Sibsp_Cat == '0') & (df_surv.Survived == 1)])/ len(df_surv[df_surv.Sibsp_Cat == '0']),2)\n",
    "Pr_sbsp1_Surv = round(len(df_surv[(df_surv.Sibsp_Cat == '1') & (df_surv.Survived == 1)])/ len(df_surv[df_surv.Sibsp_Cat == '1']),2)\n",
    "\n",
    "data = {'SbSp':  ['0', '1'],\n",
    "        'Rate_Survivors': [Pr_sbsp0_Surv, Pr_sbsp1_Surv]}\n",
    "df_surv_SibSp = pd.DataFrame (data, columns = ['SbSp','Rate_Survivors'])\n",
    "\n",
    "\n",
    "print(\"Sibilings / Spouses of Passengers\")\n",
    "print(\"Not having sibilings or spouses on board gave a probability of survivor of\", Pr_sbsp0_Surv)\n",
    "print(\"Having sibilings or spouses on board gave a probability of survivor of\", Pr_sbsp1_Surv)\n"
   ]
  },
  {
   "cell_type": "markdown",
   "metadata": {},
   "source": [
    "> **PARENTS / CHILDREN ONBOARD VS SURVIVOR**"
   ]
  },
  {
   "cell_type": "code",
   "execution_count": 424,
   "metadata": {},
   "outputs": [
    {
     "name": "stdout",
     "output_type": "stream",
     "text": [
      "Parents / Children of Passengers\n",
      "Not having parents or children on board gave a probability of survivor of 0.34\n",
      "Not having parents or children on board gave a probability of survivor of 0.51\n"
     ]
    }
   ],
   "source": [
    "Pr_Parch0_Surv = round(len(df_surv[(df_surv.Parch_Cat == '0') & (df_surv.Survived == 1)])/ len(df_surv[df_surv.Parch_Cat == '0']),2)\n",
    "Pr_Parch1_Surv = round(len(df_surv[(df_surv.Parch_Cat == '1') & (df_surv.Survived == 1)])/ len(df_surv[df_surv.Parch_Cat == '1']),2)\n",
    "\n",
    "data = {'Parch':  ['0', '1'],\n",
    "        'Rate_Survivors': [Pr_Parch0_Surv, Pr_Parch1_Surv]}\n",
    "df_surv_Parch = pd.DataFrame (data, columns = ['Parch','Rate_Survivors'])\n",
    "\n",
    "\n",
    "print(\"Parents / Children of Passengers\")\n",
    "print(\"Not having parents or children on board gave a probability of survivor of\", Pr_Parch0_Surv)\n",
    "print(\"Not having parents or children on board gave a probability of survivor of\", Pr_Parch1_Surv)\n"
   ]
  },
  {
   "cell_type": "markdown",
   "metadata": {},
   "source": [
    "> **PORT OF EMBARKMENT VS SURVIVOR**"
   ]
  },
  {
   "cell_type": "code",
   "execution_count": 383,
   "metadata": {},
   "outputs": [
    {
     "name": "stdout",
     "output_type": "stream",
     "text": [
      "Port of embarkment of Passengers\n",
      "Embarking in Southampton gave a probability of survivor of 0.34\n",
      "Embarking in Cherbourg gave a probability of survivor of 0.55\n",
      "Embarking in Queenstown gave a probability of survivor of 0.39\n"
     ]
    }
   ],
   "source": [
    "#I calculate the probabilitis of the Port of Embarkment\n",
    "Pr_EmbS_Surv = round(len(df_surv[(df_surv.Embarked == 'S') & (df_surv.Survived == 1)])/ len(df_surv[df_surv.Embarked == 'S']),2)\n",
    "Pr_EmbC_Surv = round(len(df_surv[(df_surv.Embarked == 'C') & (df_surv.Survived == 1)])/ len(df_surv[df_surv.Embarked == 'C']),2)\n",
    "Pr_EmbQ_Surv = round(len(df_surv[(df_surv.Embarked == 'Q') & (df_surv.Survived == 1)])/ len(df_surv[df_surv.Embarked == 'Q']),2)\n",
    "\n",
    "data = {'Port':  ['Southampton', 'Cherbourg', 'Queenstown'],\n",
    "        'Rate_Survivors': [Pr_EmbS_Surv, Pr_EmbC_Surv, Pr_EmbQ_Surv]}\n",
    "df_surv_Emb = pd.DataFrame (data, columns = ['Port','Rate_Survivors'])\n",
    "\n",
    "\n",
    "print(\"Port of embarkment of Passengers\")\n",
    "print(\"Embarking in Southampton gave a probability of survivor of\", Pr_EmbS_Surv)\n",
    "print(\"Embarking in Cherbourg gave a probability of survivor of\", Pr_EmbC_Surv)\n",
    "print(\"Embarking in Queenstown gave a probability of survivor of\", Pr_EmbQ_Surv)\n"
   ]
  },
  {
   "cell_type": "markdown",
   "metadata": {},
   "source": [
    "> **TITLE VS SURVIVOR**"
   ]
  },
  {
   "cell_type": "code",
   "execution_count": 384,
   "metadata": {},
   "outputs": [
    {
     "name": "stdout",
     "output_type": "stream",
     "text": [
      "Title of Passengers\n",
      "Being Mr gave a probability of survivor of 0.16\n",
      "Being Miss gave a probability of survivor of 0.7\n",
      "Being Mrs gave a probability of survivor of 0.8\n",
      "Being Master gave a probability of survivor of 0.57\n"
     ]
    }
   ],
   "source": [
    "Pr_TitMr_Surv = round(len(df_surv[(df_surv.Title == 'Mr') & (df_surv.Survived == 1)])/ len(df_surv[df_surv.Title == 'Mr']),2)\n",
    "Pr_TitMiss_Surv = round(len(df_surv[(df_surv.Title == 'Miss') & (df_surv.Survived == 1)])/ len(df_surv[df_surv.Title == 'Miss']),2)\n",
    "Pr_TitMrs_Surv = round(len(df_surv[(df_surv.Title == 'Mrs') & (df_surv.Survived == 1)])/ len(df_surv[df_surv.Title == 'Mrs']),2)\n",
    "Pr_TitMast_Surv = round(len(df_surv[(df_surv.Title == 'Master') & (df_surv.Survived == 1)])/ len(df_surv[df_surv.Title == 'Master']),2)\n",
    "\n",
    "data = {'Title':  ['Mr', 'Miss', 'Mrs', 'Master'],\n",
    "        'Rate_Survivors': [Pr_TitMr_Surv, Pr_TitMiss_Surv,Pr_TitMrs_Surv,Pr_TitMast_Surv]}\n",
    "df_surv_Tit = pd.DataFrame (data, columns = ['Title','Rate_Survivors'])\n",
    "\n",
    "\n",
    "print(\"Title of Passengers\")\n",
    "print(\"Being Mr gave a probability of survivor of\", Pr_TitMr_Surv)\n",
    "print(\"Being Miss gave a probability of survivor of\", Pr_TitMiss_Surv)\n",
    "print(\"Being Mrs gave a probability of survivor of\", Pr_TitMrs_Surv)\n",
    "print(\"Being Master gave a probability of survivor of\", Pr_TitMast_Surv)\n",
    "\n"
   ]
  },
  {
   "cell_type": "markdown",
   "metadata": {},
   "source": [
    "> **AGE VS SURVIVOR**"
   ]
  },
  {
   "cell_type": "code",
   "execution_count": 385,
   "metadata": {},
   "outputs": [
    {
     "name": "stdout",
     "output_type": "stream",
     "text": [
      "Age of Passengers\n",
      "Being a Child gave a probability of survivor of 0.59\n",
      "Being young gave a probability of survivor of 0.36\n",
      "Being an adult gave a probability of survivor of 0.38\n",
      "Being old gave a probability of survivor of 0.34\n"
     ]
    }
   ],
   "source": [
    "Pr_AgeC_Surv = round(len(df_surv[(df_surv.Age_Cat == 'Child') & (df_surv.Survived == 1)])/ len(df_surv[df_surv.Age_Cat == 'Child']),2)\n",
    "Pr_AgeY_Surv = round(len(df_surv[(df_surv.Age_Cat == 'Young') & (df_surv.Survived == 1)])/ len(df_surv[df_surv.Age_Cat == 'Young']),2)\n",
    "Pr_AgeA_Surv = round(len(df_surv[(df_surv.Age_Cat == 'Adult') & (df_surv.Survived == 1)])/ len(df_surv[df_surv.Age_Cat == 'Adult']),2)\n",
    "Pr_AgeO_Surv = round(len(df_surv[(df_surv.Age_Cat == 'Old') & (df_surv.Survived == 1)])/ len(df_surv[df_surv.Age_Cat == 'Old']),2)\n",
    "\n",
    "data = {'Age':  ['Child', 'Young', 'Adult', 'Old'],\n",
    "        'Rate_Survivors': [Pr_AgeC_Surv, Pr_AgeY_Surv, Pr_AgeA_Surv, Pr_AgeO_Surv ]}\n",
    "df_surv_Age = pd.DataFrame (data, columns = ['Age','Rate_Survivors'])\n",
    "\n",
    "print(\"Age of Passengers\")\n",
    "print(\"Being a Child gave a probability of survivor of\", Pr_AgeC_Surv)\n",
    "print(\"Being young gave a probability of survivor of\", Pr_AgeY_Surv)\n",
    "print(\"Being an adult gave a probability of survivor of\", Pr_AgeA_Surv)\n",
    "print(\"Being old gave a probability of survivor of\", Pr_AgeO_Surv)"
   ]
  },
  {
   "cell_type": "markdown",
   "metadata": {},
   "source": [
    "> **FARE VS SURVIVOR**"
   ]
  },
  {
   "cell_type": "code",
   "execution_count": 386,
   "metadata": {},
   "outputs": [
    {
     "name": "stdout",
     "output_type": "stream",
     "text": [
      "Ticket Fare\n",
      "Having a low ticket fare gave a probability of survivor of 0.25\n",
      "Having a mid ticket fare gave a probability of survivor of 0.45\n",
      "Having a high ticket fare gave a probability of survivor of 0.64\n"
     ]
    }
   ],
   "source": [
    "Pr_FareL_Surv = round(len(df_surv[(df_surv.Fare_Cat == 'Low') & (df_surv.Survived == 1)])/ len(df_surv[df_surv.Fare_Cat == 'Low']),2)\n",
    "Pr_FareM_Surv = round(len(df_surv[(df_surv.Fare_Cat == 'Mid') & (df_surv.Survived == 1)])/ len(df_surv[df_surv.Fare_Cat == 'Mid']),2)\n",
    "Pr_FareH_Surv = round(len(df_surv[(df_surv.Fare_Cat == 'High') & (df_surv.Survived == 1)])/ len(df_surv[df_surv.Fare_Cat == 'High']),2)\n",
    "\n",
    "data = {'Fare':  ['Low', 'Mid', 'High'],\n",
    "        'Rate_Survivors': [Pr_FareL_Surv, Pr_FareM_Surv, Pr_FareH_Surv ]}\n",
    "df_surv_Fare = pd.DataFrame (data, columns = ['Fare','Rate_Survivors'])\n",
    "\n",
    "print(\"Ticket Fare\")\n",
    "print(\"Having a low ticket fare gave a probability of survivor of\", Pr_FareL_Surv)\n",
    "print(\"Having a mid ticket fare gave a probability of survivor of\", Pr_FareM_Surv)\n",
    "print(\"Having a high ticket fare gave a probability of survivor of\", Pr_FareH_Surv)"
   ]
  },
  {
   "cell_type": "markdown",
   "metadata": {},
   "source": [
    "> **VISUAL REPRESENTATION**"
   ]
  },
  {
   "cell_type": "code",
   "execution_count": 426,
   "metadata": {},
   "outputs": [
    {
     "data": {
      "image/png": "[encoded data removed]",
      "text/plain": [
       "<Figure size 720x1080 with 8 Axes>"
      ]
     },
     "metadata": {
      "needs_background": "light"
     },
     "output_type": "display_data"
    }
   ],
   "source": [
    "plt.figure(figsize = [10, 15])\n",
    "\n",
    "#Class\n",
    "plt.subplot(4, 2, 1)\n",
    "objects = ('1', '2', '3')\n",
    "y_pos = np.arange(len(objects))\n",
    "plt.bar(y_pos, df_cl_surv.Rate_Survivors, align='center', alpha=0.5)\n",
    "plt.xticks(y_pos, objects);\n",
    "plt.ylabel('Probability of Survival')\n",
    "plt.title('Prob of Survival vs Class');\n",
    "\n",
    "#Sex\n",
    "plt.subplot(4, 2, 2)\n",
    "objects = ('Male', 'Female')\n",
    "y_pos = np.arange(len(objects))\n",
    "plt.bar(y_pos, df_sex_surv.Rate_Survivors, align='center', alpha=0.5)\n",
    "plt.xticks(y_pos, objects);\n",
    "plt.ylabel('Probability of Survival')\n",
    "plt.title('Prob of Survival vs Sex');\n",
    "\n",
    "#Sibilings / Spouses\n",
    "plt.subplot(4, 2, 3)\n",
    "objects = ('0', '1')\n",
    "y_pos = np.arange(len(objects))\n",
    "plt.bar(y_pos, df_surv_SibSp.Rate_Survivors, align='center', alpha=0.5)\n",
    "plt.xticks(y_pos, objects);\n",
    "plt.ylabel('Probability of Survival')\n",
    "plt.title('Prob of Survival vs Number of Sibilings / Spouses');\n",
    "\n",
    "#parents/children\n",
    "plt.subplot(4, 2, 4)\n",
    "objects = ('0', '1')\n",
    "y_pos = np.arange(len(objects))\n",
    "plt.bar(y_pos, df_surv_Parch.Rate_Survivors, align='center', alpha=0.5)\n",
    "plt.xticks(y_pos, objects);\n",
    "plt.ylabel('Probability of Survival')\n",
    "plt.title('Prob of Survival vs Number of Parents / Children');\n",
    "\n",
    "#port of embarkment\n",
    "plt.subplot(4, 2, 5)\n",
    "objects = ('Southampton', 'Cherbourg', 'Queenstown')\n",
    "y_pos = np.arange(len(objects))\n",
    "plt.bar(y_pos, df_surv_Emb.Rate_Survivors, align='center', alpha=0.5)\n",
    "plt.xticks(y_pos, objects);\n",
    "plt.ylabel('Probability of Survival')\n",
    "plt.title('Prob of Survival vs Port of Embarkment');\n",
    "\n",
    "#Title\n",
    "plt.subplot(4, 2, 6)\n",
    "objects = ('Mr', 'Miss', 'Mrs', 'Master')\n",
    "y_pos = np.arange(len(objects))\n",
    "plt.bar(y_pos, df_surv_Tit.Rate_Survivors, align='center', alpha=0.5)\n",
    "plt.xticks(y_pos, objects);\n",
    "plt.ylabel('Probability of Survival')\n",
    "plt.title('Prob of Survival vs Title');\n",
    "\n",
    "#Age\n",
    "plt.subplot(4, 2, 7)\n",
    "objects = ('Child', 'Young', 'Adult', 'Old')\n",
    "y_pos = np.arange(len(objects))\n",
    "plt.bar(y_pos, df_surv_Age.Rate_Survivors, align='center', alpha=0.5)\n",
    "plt.xticks(y_pos, objects);\n",
    "plt.ylabel('Probability of Survival')\n",
    "plt.title('Prob of Survival vs Age');\n",
    "\n",
    "#Fare\n",
    "plt.subplot(4, 2, 8)\n",
    "objects = ('Low', 'Mid', 'High')\n",
    "y_pos = np.arange(len(objects))\n",
    "plt.bar(y_pos, df_surv_Fare.Rate_Survivors, align='center', alpha=0.5)\n",
    "plt.xticks(y_pos, objects);\n",
    "plt.ylabel('Probability of Survival')\n",
    "plt.title('Prob of Survival vs Fare');"
   ]
  },
  {
   "cell_type": "markdown",
   "metadata": {},
   "source": [
    "> Assesing the graphs we can see that the features that affects more to survive is to be rich (class and Fare), to be a child and to be a female. It also have inffluence to have relatives with you. All these conclussions seem very logical\n",
    "\n",
    "> Embarking in Cherbourg seems that also has effects but really doesn´t have too much logic, probably it´s related to side effects, like that in that port embarked more women, children, rich people or families"
   ]
  }
 ],
 "metadata": {
  "kernelspec": {
   "display_name": "Python 3",
   "language": "python",
   "name": "python3"
  },
  "language_info": {
   "codemirror_mode": {
    "name": "ipython",
    "version": 3
   },
   "file_extension": ".py",
   "mimetype": "text/x-python",
   "name": "python",
   "nbconvert_exporter": "python",
   "pygments_lexer": "ipython3",
   "version": "3.7.4"
  }
 },
 "nbformat": 4,
 "nbformat_minor": 2
}
